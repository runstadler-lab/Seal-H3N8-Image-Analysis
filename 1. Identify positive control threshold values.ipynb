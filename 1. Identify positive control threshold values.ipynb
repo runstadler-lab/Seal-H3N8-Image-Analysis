{
 "metadata": {
  "name": ""
 },
 "nbformat": 3,
 "nbformat_minor": 0,
 "worksheets": [
  {
   "cells": [
    {
     "cell_type": "code",
     "collapsed": false,
     "input": [
      "import numpy as np\n",
      "import matplotlib.pyplot as plt\n",
      "import matplotlib.patches as mpatches\n",
      "\n",
      "from skimage import data\n",
      "from skimage.filter import threshold_otsu, threshold_adaptive\n",
      "from skimage.segmentation import clear_border\n",
      "from skimage.morphology import label, closing, square, disk\n",
      "from skimage.measure import regionprops\n",
      "from skimage.color import label2rgb, rgb2hed\n",
      "from skimage.io import imread, imshow, plugins\n",
      "from skimage import filter\n",
      "from skimage.exposure import rescale_intensity\n",
      "from skimage.filter.rank import entropy\n",
      "\n",
      "import os\n",
      "import tiffile\n",
      "\n",
      "from rgprocessing import loadshow_img, showchannel, threshold_image, entropy_image, find_overlap, quantify_overlap"
     ],
     "language": "python",
     "metadata": {},
     "outputs": [],
     "prompt_number": 119
    },
    {
     "cell_type": "code",
     "collapsed": false,
     "input": [
      "tissue = 'lung'"
     ],
     "language": "python",
     "metadata": {},
     "outputs": [],
     "prompt_number": 132
    },
    {
     "cell_type": "code",
     "collapsed": false,
     "input": [
      "path = os.getcwd()\n",
      "print path\n",
      "files = [f for f in os.listdir(path) if ('png' in f)]\n",
      "for f in files:\n",
      "    #print f\n",
      "    if 'png' in f:\n",
      "        print f"
     ],
     "language": "python",
     "metadata": {},
     "outputs": [
      {
       "output_type": "stream",
       "stream": "stdout",
       "text": [
        "/Users/ericmjl/ericmjl BTSync/Research Projects/Runstadler Lab/Computational Analysis/Seal_Images/2013-11-13 - 20X/Images_final_analysis_Eric\n",
        "HH3_lung_111313_11 Overlap.png\n",
        "HH3_lung_111313_11.png\n",
        "HH3_lung_111313_12 Overlap.png\n",
        "HH3_lung_111313_12.png\n",
        "HH3_lung_111313_13 Overlap.png\n",
        "HH3_lung_111313_13.png\n",
        "HH3_lung_111313_2 Overlap.png\n",
        "HH3_lung_111313_2.png\n",
        "HH3_lung_111313_4 Overlap.png\n",
        "HH3_lung_111313_4.png\n",
        "HH3_lung_111313_5 Overlap.png\n",
        "HH3_lung_111313_5.png\n",
        "HH3_trachea_111313_1 Overlap.png\n",
        "HH3_trachea_111313_1.png\n",
        "HH3_trachea_111313_3 Overlap.png\n",
        "HH3_trachea_111313_3.png\n",
        "HH3_trachea_111313_4 Overlap.png\n",
        "HH3_trachea_111313_4.png\n",
        "HH3_trachea_111313_5 Overlap.png\n",
        "HH3_trachea_111313_5.png\n",
        "HH3_trachea_111313_6 Overlap.png\n",
        "HH3_trachea_111313_6.png\n",
        "HH3_trachea_111313_7 Overlap.png\n",
        "HH3_trachea_111313_7.png\n",
        "Neg_lung_111313_4 Overlap.png\n",
        "Neg_lung_111313_4.png\n",
        "Neg_lung_111313_5 Overlap.png\n",
        "Neg_lung_111313_5.png\n",
        "Neg_lung_111313_6 Overlap.png\n",
        "Neg_lung_111313_6.png\n",
        "Neg_trachea_111313_2 Overlap.png\n",
        "Neg_trachea_111313_2.png\n",
        "Neg_trachea_111313_3 Overlap.png\n",
        "Neg_trachea_111313_3.png\n",
        "Neg_trachea_111313_4 Overlap.png\n",
        "Neg_trachea_111313_4.png\n",
        "Neg_trachea_111313_5 Overlap.png\n",
        "Neg_trachea_111313_5.png\n",
        "Neg_trachea_111313_6 Overlap.png\n",
        "Neg_trachea_111313_6.png\n",
        "Neg_trachea_111313_7 Overlap.png\n",
        "Neg_trachea_111313_7.png\n",
        "Neg_trachea_111313_8 Overlap.png\n",
        "Neg_trachea_111313_8.png\n",
        "Neg_trachea_111313_9 Overlap.png\n",
        "Neg_trachea_111313_9.png\n",
        "SH3_20_lung_111313_13 Overlap.png\n",
        "SH3_20_lung_111313_13.png\n",
        "SH3_20_lung_111313_14 Overlap.png\n",
        "SH3_20_lung_111313_14.png\n",
        "SH3_20_lung_111313_15 Overlap.png\n",
        "SH3_20_lung_111313_15.png\n",
        "SH3_20_lung_111313_26 Overlap.png\n",
        "SH3_20_lung_111313_26.png\n",
        "SH3_20_lung_111313_27 Overlap.png\n",
        "SH3_20_lung_111313_27.png\n",
        "SH3_20_lung_111313_28 Overlap.png\n",
        "SH3_20_lung_111313_28.png\n",
        "SH3_20_lung_111313_29 Overlap.png\n",
        "SH3_20_lung_111313_29.png\n",
        "SH3_20_lung_111313_30 Overlap.png\n",
        "SH3_20_lung_111313_30.png\n",
        "SSH3_40_trachea_111313_1 Overlap.png\n",
        "SSH3_40_trachea_111313_1.png\n",
        "SSH3_40_trachea_111313_13 Overlap.png\n",
        "SSH3_40_trachea_111313_13.png\n",
        "SSH3_40_trachea_111313_14 Overlap.png\n",
        "SSH3_40_trachea_111313_14.png\n",
        "SSH3_40_trachea_111313_15 Overlap.png\n",
        "SSH3_40_trachea_111313_15.png\n",
        "SSH3_40_trachea_111313_16 Overlap.png\n",
        "SSH3_40_trachea_111313_16.png\n",
        "SSH3_40_trachea_111313_17 Overlap.png\n",
        "SSH3_40_trachea_111313_17.png\n",
        "SSH3_40_trachea_111313_2 Overlap.png\n",
        "SSH3_40_trachea_111313_2.png\n",
        "SSH3_40_trachea_111313_3 Overlap.png\n",
        "SSH3_40_trachea_111313_3.png\n",
        "SSH3_40_trachea_111313_4 Overlap.png\n",
        "SSH3_40_trachea_111313_4.png\n",
        "SSH3_40_trachea_111313_5 Overlap.png\n",
        "SSH3_40_trachea_111313_5.png\n",
        "SSH3_40_trachea_111313_6 Overlap.png\n",
        "SSH3_40_trachea_111313_6.png\n",
        "SSH3_40_trachea_111313_7 Overlap.png\n",
        "SSH3_40_trachea_111313_7.png\n",
        "SSH3_40_trachea_111313_8 Overlap.png\n",
        "SSH3_40_trachea_111313_8.png\n"
       ]
      }
     ],
     "prompt_number": 133
    },
    {
     "cell_type": "code",
     "collapsed": false,
     "input": [
      "# Sanity check: make sure that the files are right\n",
      "files"
     ],
     "language": "python",
     "metadata": {},
     "outputs": [
      {
       "metadata": {},
       "output_type": "pyout",
       "prompt_number": 134,
       "text": [
        "['HH3_lung_111313_11 Overlap.png',\n",
        " 'HH3_lung_111313_11.png',\n",
        " 'HH3_lung_111313_12 Overlap.png',\n",
        " 'HH3_lung_111313_12.png',\n",
        " 'HH3_lung_111313_13 Overlap.png',\n",
        " 'HH3_lung_111313_13.png',\n",
        " 'HH3_lung_111313_2 Overlap.png',\n",
        " 'HH3_lung_111313_2.png',\n",
        " 'HH3_lung_111313_4 Overlap.png',\n",
        " 'HH3_lung_111313_4.png',\n",
        " 'HH3_lung_111313_5 Overlap.png',\n",
        " 'HH3_lung_111313_5.png',\n",
        " 'HH3_trachea_111313_1 Overlap.png',\n",
        " 'HH3_trachea_111313_1.png',\n",
        " 'HH3_trachea_111313_3 Overlap.png',\n",
        " 'HH3_trachea_111313_3.png',\n",
        " 'HH3_trachea_111313_4 Overlap.png',\n",
        " 'HH3_trachea_111313_4.png',\n",
        " 'HH3_trachea_111313_5 Overlap.png',\n",
        " 'HH3_trachea_111313_5.png',\n",
        " 'HH3_trachea_111313_6 Overlap.png',\n",
        " 'HH3_trachea_111313_6.png',\n",
        " 'HH3_trachea_111313_7 Overlap.png',\n",
        " 'HH3_trachea_111313_7.png',\n",
        " 'Neg_lung_111313_4 Overlap.png',\n",
        " 'Neg_lung_111313_4.png',\n",
        " 'Neg_lung_111313_5 Overlap.png',\n",
        " 'Neg_lung_111313_5.png',\n",
        " 'Neg_lung_111313_6 Overlap.png',\n",
        " 'Neg_lung_111313_6.png',\n",
        " 'Neg_trachea_111313_2 Overlap.png',\n",
        " 'Neg_trachea_111313_2.png',\n",
        " 'Neg_trachea_111313_3 Overlap.png',\n",
        " 'Neg_trachea_111313_3.png',\n",
        " 'Neg_trachea_111313_4 Overlap.png',\n",
        " 'Neg_trachea_111313_4.png',\n",
        " 'Neg_trachea_111313_5 Overlap.png',\n",
        " 'Neg_trachea_111313_5.png',\n",
        " 'Neg_trachea_111313_6 Overlap.png',\n",
        " 'Neg_trachea_111313_6.png',\n",
        " 'Neg_trachea_111313_7 Overlap.png',\n",
        " 'Neg_trachea_111313_7.png',\n",
        " 'Neg_trachea_111313_8 Overlap.png',\n",
        " 'Neg_trachea_111313_8.png',\n",
        " 'Neg_trachea_111313_9 Overlap.png',\n",
        " 'Neg_trachea_111313_9.png',\n",
        " 'SH3_20_lung_111313_13 Overlap.png',\n",
        " 'SH3_20_lung_111313_13.png',\n",
        " 'SH3_20_lung_111313_14 Overlap.png',\n",
        " 'SH3_20_lung_111313_14.png',\n",
        " 'SH3_20_lung_111313_15 Overlap.png',\n",
        " 'SH3_20_lung_111313_15.png',\n",
        " 'SH3_20_lung_111313_26 Overlap.png',\n",
        " 'SH3_20_lung_111313_26.png',\n",
        " 'SH3_20_lung_111313_27 Overlap.png',\n",
        " 'SH3_20_lung_111313_27.png',\n",
        " 'SH3_20_lung_111313_28 Overlap.png',\n",
        " 'SH3_20_lung_111313_28.png',\n",
        " 'SH3_20_lung_111313_29 Overlap.png',\n",
        " 'SH3_20_lung_111313_29.png',\n",
        " 'SH3_20_lung_111313_30 Overlap.png',\n",
        " 'SH3_20_lung_111313_30.png',\n",
        " 'SSH3_40_trachea_111313_1 Overlap.png',\n",
        " 'SSH3_40_trachea_111313_1.png',\n",
        " 'SSH3_40_trachea_111313_13 Overlap.png',\n",
        " 'SSH3_40_trachea_111313_13.png',\n",
        " 'SSH3_40_trachea_111313_14 Overlap.png',\n",
        " 'SSH3_40_trachea_111313_14.png',\n",
        " 'SSH3_40_trachea_111313_15 Overlap.png',\n",
        " 'SSH3_40_trachea_111313_15.png',\n",
        " 'SSH3_40_trachea_111313_16 Overlap.png',\n",
        " 'SSH3_40_trachea_111313_16.png',\n",
        " 'SSH3_40_trachea_111313_17 Overlap.png',\n",
        " 'SSH3_40_trachea_111313_17.png',\n",
        " 'SSH3_40_trachea_111313_2 Overlap.png',\n",
        " 'SSH3_40_trachea_111313_2.png',\n",
        " 'SSH3_40_trachea_111313_3 Overlap.png',\n",
        " 'SSH3_40_trachea_111313_3.png',\n",
        " 'SSH3_40_trachea_111313_4 Overlap.png',\n",
        " 'SSH3_40_trachea_111313_4.png',\n",
        " 'SSH3_40_trachea_111313_5 Overlap.png',\n",
        " 'SSH3_40_trachea_111313_5.png',\n",
        " 'SSH3_40_trachea_111313_6 Overlap.png',\n",
        " 'SSH3_40_trachea_111313_6.png',\n",
        " 'SSH3_40_trachea_111313_7 Overlap.png',\n",
        " 'SSH3_40_trachea_111313_7.png',\n",
        " 'SSH3_40_trachea_111313_8 Overlap.png',\n",
        " 'SSH3_40_trachea_111313_8.png']"
       ]
      }
     ],
     "prompt_number": 134
    },
    {
     "cell_type": "code",
     "collapsed": false,
     "input": [
      "# Identify positive controls for tissue:\n",
      "# Make sure that tissue 'trachea', 'SH3' is present\n",
      "# Make sure that tissue 'lung', 'HH3' is present\n",
      "pcs = [f for f in files if (f.split(\"_\")[0] == 'HH3' and (tissue in f or tissue.upper() in f) and 'Overlap' not in f)]\n",
      "pcs"
     ],
     "language": "python",
     "metadata": {},
     "outputs": [
      {
       "metadata": {},
       "output_type": "pyout",
       "prompt_number": 135,
       "text": [
        "['HH3_lung_111313_11.png',\n",
        " 'HH3_lung_111313_12.png',\n",
        " 'HH3_lung_111313_13.png',\n",
        " 'HH3_lung_111313_2.png',\n",
        " 'HH3_lung_111313_4.png',\n",
        " 'HH3_lung_111313_5.png']"
       ]
      }
     ],
     "prompt_number": 135
    },
    {
     "cell_type": "code",
     "collapsed": false,
     "input": [
      "pcrthreshs = [] # this is pre-entropy\n",
      "pcr_threshs = [] # this is post-entropy\n",
      "pcgthreshs = [] # this is pre-entropy\n",
      "pcg_threshs = [] # this is post-entropy\n",
      "\n",
      "# Green channel disk size\n",
      "grndisk = 25\n",
      "reddisk = 25\n",
      "\n",
      "for f in pcs:\n",
      "    pos_ctrl = loadshow_img(f)\n",
      "    \n",
      "    pcred = showchannel(pos_ctrl, 0)\n",
      "    pcred, pcrthresh = threshold_image(pcred)\n",
      "    pcred = entropy_image(pcred, reddisk)\n",
      "    pcred, pcr_thresh = threshold_image(pcred)\n",
      "    pcrthreshs.append(pcrthresh)\n",
      "    pcr_threshs.append(pcr_thresh)\n",
      "    \n",
      "    pcgreen = showchannel(pos_ctrl, 1)\n",
      "    pcgreen, pcgthresh = threshold_image(pcgreen)\n",
      "    pcgreen = entropy_image(pcgreen, grndisk)\n",
      "    pcgreen, pcg_thresh = threshold_image(pcgreen)\n",
      "    pcgthreshs.append(pcgthresh)\n",
      "    pcg_threshs.append(pcg_thresh)\n",
      "    \n",
      "    pcoverlap = find_overlap(pcred, pcgreen)\n",
      "    print quantify_overlap(pcoverlap)"
     ],
     "language": "python",
     "metadata": {},
     "outputs": [
      {
       "output_type": "stream",
       "stream": "stdout",
       "text": [
        "46362\n",
        "29008"
       ]
      },
      {
       "output_type": "stream",
       "stream": "stdout",
       "text": [
        "\n",
        "33462"
       ]
      },
      {
       "output_type": "stream",
       "stream": "stdout",
       "text": [
        "\n",
        "7228"
       ]
      },
      {
       "output_type": "stream",
       "stream": "stdout",
       "text": [
        "\n",
        "50724"
       ]
      },
      {
       "output_type": "stream",
       "stream": "stdout",
       "text": [
        "\n",
        "54964"
       ]
      },
      {
       "output_type": "stream",
       "stream": "stdout",
       "text": [
        "\n"
       ]
      },
      {
       "metadata": {},
       "output_type": "display_data",
       "png": "[encoded data removed]",
       "text": [
        "<matplotlib.figure.Figure at 0x107e522d0>"
       ]
      }
     ],
     "prompt_number": 136
    },
    {
     "cell_type": "code",
     "collapsed": false,
     "input": [
      "print pcr_threshs\n",
      "print pcrthreshs\n",
      "print pcg_threshs\n",
      "print pcgthreshs"
     ],
     "language": "python",
     "metadata": {},
     "outputs": [
      {
       "output_type": "stream",
       "stream": "stdout",
       "text": [
        "[0.31054681674723583, 0.376953125, 0.357421875, 0.30273431821271413, 0.341796875, 0.34179681088532243]\n",
        "[0.23154105410048942, 0.14041819882640993, 0.18484987764077232, 0.22375919135720324, 0.10100337320636754, 0.10180760063758498]\n",
        "[0.079435227100816297, 0.14893341043700581, 0.11324623045727203, 0.18243242105698468, 0.1188768546567449, 0.11376357157398503]\n",
        "[0.30546875016170816, 0.35215992662142526, 0.34048713250649598, 0.36383272073635453, 0.36383272073635453, 0.35605085799306835]\n"
       ]
      }
     ],
     "prompt_number": 137
    },
    {
     "cell_type": "code",
     "collapsed": false,
     "input": [
      "logfile = open('parameters log %s.txt' % tissue, 'w+')\n",
      "logfile.write('%s Parameters Red Channel \\n' % tissue)\n",
      "logfile.write('Average Threshold: %03f \\n' % (sum(pcrthreshs)/len(pcrthreshs)))\n",
      "logfile.write('  Individual Thresholds: \\n')\n",
      "for l in pcrthreshs:\n",
      "    logfile.write('  %03f \\n' % l)\n",
      "\n",
      "logfile.write(\"%s Parameters Green Channel \\n\" % tissue)\n",
      "logfile.write('Average Threshold: %03f \\n' % (sum(pcgthreshs)/len(pcgthreshs)))\n",
      "logfile.write('  Individual Thresholds: \\n')\n",
      "for l in pcgthreshs:\n",
      "    logfile.write('  %03f \\n' % l)\n",
      "logfile.close()"
     ],
     "language": "python",
     "metadata": {},
     "outputs": [],
     "prompt_number": 138
    },
    {
     "cell_type": "code",
     "collapsed": false,
     "input": [
      "logfile = open('parameter average threshold red channel %s.txt' % tissue, 'w+')\n",
      "logfile.write('%03f' %(sum(pcr_threshs)/len(pcr_threshs)))\n",
      "logfile.close()\n",
      "\n",
      "logfile = open('parameter average threshold red channel %s pre-otsu.txt' % tissue, 'w+')\n",
      "logfile.write('%03f' %(min(pcrthreshs)))\n",
      "logfile.close()\n",
      "\n",
      "logfile = open('parameter average threshold green channel %s.txt' % tissue, 'w+')\n",
      "logfile.write('%03f' %(sum(pcg_threshs)/len(pcg_threshs)))\n",
      "logfile.close()\n",
      "\n",
      "logfile = open('parameter average threshold green channel %s pre-otsu.txt' % tissue, 'w+')\n",
      "logfile.write('%03f' %(min(pcgthreshs)))\n",
      "logfile.close()"
     ],
     "language": "python",
     "metadata": {},
     "outputs": [],
     "prompt_number": 139
    },
    {
     "cell_type": "code",
     "collapsed": false,
     "input": [],
     "language": "python",
     "metadata": {},
     "outputs": []
    },
    {
     "cell_type": "code",
     "collapsed": false,
     "input": [],
     "language": "python",
     "metadata": {},
     "outputs": [],
     "prompt_number": 63
    },
    {
     "cell_type": "code",
     "collapsed": false,
     "input": [],
     "language": "python",
     "metadata": {},
     "outputs": []
    }
   ],
   "metadata": {}
  }
 ]
}