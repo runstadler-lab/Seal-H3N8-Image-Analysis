{
 "metadata": {
  "name": "",
  "signature": "sha256:aa9b46edfbe7717548e5e0a0db75987fb669153de6844c0e7ee0335adb077084"
 },
 "nbformat": 3,
 "nbformat_minor": 0,
 "worksheets": [
  {
   "cells": [
    {
     "cell_type": "code",
     "collapsed": false,
     "input": [
      "import numpy as np\n",
      "import matplotlib.pyplot as plt\n",
      "import matplotlib.patches as mpatches\n",
      "\n",
      "from skimage import data\n",
      "from skimage.filter import threshold_otsu, threshold_adaptive\n",
      "from skimage.segmentation import clear_border\n",
      "from skimage.morphology import label, closing, square, disk\n",
      "from skimage.measure import regionprops\n",
      "from skimage.color import label2rgb, rgb2hed\n",
      "from skimage.io import imread, imshow\n",
      "from skimage import filter\n",
      "from skimage.exposure import rescale_intensity\n",
      "from skimage.filter.rank import entropy\n",
      "\n",
      "import os\n",
      "import tiffile\n",
      "from pprint import pprint\n",
      "\n",
      "from rgprocessing import *"
     ],
     "language": "python",
     "metadata": {},
     "outputs": [],
     "prompt_number": 15
    },
    {
     "cell_type": "code",
     "collapsed": false,
     "input": [
      "tissue = 'Human Trachea'\n",
      "date = str(111313)"
     ],
     "language": "python",
     "metadata": {},
     "outputs": [],
     "prompt_number": 115
    },
    {
     "cell_type": "code",
     "collapsed": false,
     "input": [
      "cwd = os.getcwd()\n",
      "posctrl_dir = \"Human/\" + tissue + \"/\"\n",
      "files = [f for f in os.listdir(posctrl_dir) if ('tif' in f) and (date in f)]\n",
      "pprint(files)"
     ],
     "language": "python",
     "metadata": {},
     "outputs": [
      {
       "output_type": "stream",
       "stream": "stdout",
       "text": [
        "['HH3_trachea_111313_1.tif',\n",
        " 'HH3_trachea_111313_3.tif',\n",
        " 'HH3_trachea_111313_4.tif',\n",
        " 'HH3_trachea_111313_5.tif',\n",
        " 'HH3_trachea_111313_6.tif',\n",
        " 'HH3_trachea_111313_7.tif']\n"
       ]
      }
     ],
     "prompt_number": 116
    },
    {
     "cell_type": "code",
     "collapsed": false,
     "input": [
      "# Sanity check: make sure that the files are right\n",
      "files"
     ],
     "language": "python",
     "metadata": {},
     "outputs": [
      {
       "metadata": {},
       "output_type": "pyout",
       "prompt_number": 117,
       "text": [
        "['HH3_trachea_111313_1.tif',\n",
        " 'HH3_trachea_111313_3.tif',\n",
        " 'HH3_trachea_111313_4.tif',\n",
        " 'HH3_trachea_111313_5.tif',\n",
        " 'HH3_trachea_111313_6.tif',\n",
        " 'HH3_trachea_111313_7.tif']"
       ]
      }
     ],
     "prompt_number": 117
    },
    {
     "cell_type": "code",
     "collapsed": false,
     "input": [
      "# Identify positive controls for tissue:\n",
      "# Make sure that tissue 'trachea', 'SH3' is present\n",
      "# Make sure that tissue 'lung', 'HH3' is present\n",
      "pcs = [f for f in files]"
     ],
     "language": "python",
     "metadata": {},
     "outputs": [],
     "prompt_number": 118
    },
    {
     "cell_type": "code",
     "collapsed": false,
     "input": [
      "pcrthreshs = [] # this is pre-entropy\n",
      "pcr_threshs = [] # this is post-entropy\n",
      "pcgthreshs = [] # this is pre-entropy\n",
      "pcg_threshs = [] # this is post-entropy\n",
      "\n",
      "# Green channel disk size\n",
      "grndisk = 25\n",
      "reddisk = 25\n",
      "\n",
      "for filename in pcs:\n",
      "    \n",
      "    f = posctrl_dir + filename\n",
      "    \n",
      "    pos_ctrl = loadshow_img(f)\n",
      "    \n",
      "    pcred = showchannel(pos_ctrl, 0)\n",
      "    pcred, pcrthresh = threshold_image(pcred)\n",
      "    pcred = entropy_image(pcred, reddisk)\n",
      "    pcred, pcr_thresh = threshold_image(pcred)\n",
      "    pcrthreshs.append(pcrthresh)\n",
      "    pcr_threshs.append(pcr_thresh)\n",
      "    \n",
      "    pcgreen = showchannel(pos_ctrl, 1)\n",
      "    pcgreen, pcgthresh = threshold_image(pcgreen)\n",
      "    pcgreen = entropy_image(pcgreen, grndisk)\n",
      "    pcgreen, pcg_thresh = threshold_image(pcgreen)\n",
      "    pcgthreshs.append(pcgthresh)\n",
      "    pcg_threshs.append(pcg_thresh)\n",
      "    \n",
      "    pcoverlap = find_overlap(pcred, pcgreen)\n",
      "    print quantify_overlap(pcoverlap)"
     ],
     "language": "python",
     "metadata": {},
     "outputs": [
      {
       "output_type": "stream",
       "stream": "stdout",
       "text": [
        "50712\n",
        "55929"
       ]
      },
      {
       "output_type": "stream",
       "stream": "stdout",
       "text": [
        "\n",
        "47706"
       ]
      },
      {
       "output_type": "stream",
       "stream": "stdout",
       "text": [
        "\n",
        "101671"
       ]
      },
      {
       "output_type": "stream",
       "stream": "stdout",
       "text": [
        "\n",
        "121768"
       ]
      },
      {
       "output_type": "stream",
       "stream": "stdout",
       "text": [
        "\n",
        "57390"
       ]
      },
      {
       "output_type": "stream",
       "stream": "stdout",
       "text": [
        "\n"
       ]
      }
     ],
     "prompt_number": 119
    },
    {
     "cell_type": "code",
     "collapsed": false,
     "input": [
      "print pcr_threshs\n",
      "print pcrthreshs\n",
      "print pcg_threshs\n",
      "print pcgthreshs"
     ],
     "language": "python",
     "metadata": {},
     "outputs": [
      {
       "output_type": "stream",
       "stream": "stdout",
       "text": [
        "[0.412109375, 0.404296875, 0.408203125, 0.404296875, 0.408203125, 0.396484375]\n",
        "[48, 48, 52, 36, 37, 30]\n",
        "[0.32226556454901828, 0.31835931528175743, 0.30273386391425022, 0.36132805722162653, 0.36914055575614824, 0.31054681674723583]\n",
        "[32, 31, 31, 33, 32, 31]\n"
       ]
      }
     ],
     "prompt_number": 120
    },
    {
     "cell_type": "code",
     "collapsed": false,
     "input": [
      "logfile = open('parameters log %s.txt' % (tissue+' '+date), 'w+')\n",
      "logfile.write('%s Parameters Red Channel \\n' % (tissue+' '+date))\n",
      "logfile.write('Average Threshold: %03f \\n' % (sum(pcrthreshs)/len(pcrthreshs)))\n",
      "logfile.write('  Individual Thresholds: \\n')\n",
      "for l in pcrthreshs:\n",
      "    logfile.write('  %03f \\n' % l)\n",
      "\n",
      "logfile.write(\"%s Parameters Green Channel \\n\" % (tissue+' '+date))\n",
      "logfile.write('Average Threshold: %03f \\n' % (sum(pcgthreshs)/len(pcgthreshs)))\n",
      "logfile.write('  Individual Thresholds: \\n')\n",
      "for l in pcgthreshs:\n",
      "    logfile.write('  %03f \\n' % l)\n",
      "logfile.close()"
     ],
     "language": "python",
     "metadata": {},
     "outputs": [],
     "prompt_number": 121
    },
    {
     "cell_type": "code",
     "collapsed": false,
     "input": [
      "logfile = open('parameter average threshold red channel %s.txt' % (tissue+' '+date), 'w+')\n",
      "logfile.write('%03f' %(min(pcr_threshs)))\n",
      "logfile.close()\n",
      "\n",
      "logfile = open('parameter average threshold red channel %s pre-otsu.txt' % (tissue+' '+date), 'w+')\n",
      "logfile.write('%03f' %(min(pcrthreshs)))\n",
      "logfile.close()\n",
      "\n",
      "logfile = open('parameter average threshold green channel %s.txt' % (tissue+' '+date), 'w+')\n",
      "logfile.write('%03f' %(min(pcg_threshs)))\n",
      "logfile.close()\n",
      "\n",
      "logfile = open('parameter average threshold green channel %s pre-otsu.txt' % (tissue+' '+date), 'w+')\n",
      "logfile.write('%03f' %(min(pcgthreshs)))\n",
      "logfile.close()"
     ],
     "language": "python",
     "metadata": {},
     "outputs": [],
     "prompt_number": 122
    },
    {
     "cell_type": "code",
     "collapsed": false,
     "input": [],
     "language": "python",
     "metadata": {},
     "outputs": []
    },
    {
     "cell_type": "code",
     "collapsed": false,
     "input": [],
     "language": "python",
     "metadata": {},
     "outputs": [],
     "prompt_number": 63
    },
    {
     "cell_type": "code",
     "collapsed": false,
     "input": [],
     "language": "python",
     "metadata": {},
     "outputs": []
    }
   ],
   "metadata": {}
  }
 ]
}