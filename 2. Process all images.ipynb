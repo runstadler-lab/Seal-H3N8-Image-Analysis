{
 "metadata": {
  "name": ""
 },
 "nbformat": 3,
 "nbformat_minor": 0,
 "worksheets": [
  {
   "cells": [
    {
     "cell_type": "code",
     "collapsed": false,
     "input": [
      "from os import listdir\n",
      "from os.path import isfile, join\n",
      "import os\n",
      "from rgprocessing import loadshow_img, showchannel, threshold_image, entropy_image, find_overlap, quantify_overlap, save_overlap\n",
      "import skimage\n",
      "import pandas as pd\n",
      "from IPython.display import HTML"
     ],
     "language": "python",
     "metadata": {},
     "outputs": [],
     "prompt_number": 149
    },
    {
     "cell_type": "code",
     "collapsed": false,
     "input": [
      "path = os.getcwd()\n",
      "files = listdir(path)\n",
      "for f in files:\n",
      "    if 'png' in f:\n",
      "        print f"
     ],
     "language": "python",
     "metadata": {},
     "outputs": [
      {
       "output_type": "stream",
       "stream": "stdout",
       "text": [
        "HH3_lung_111313_11 Overlap.png\n",
        "HH3_lung_111313_11.png\n",
        "HH3_lung_111313_12 Overlap.png\n",
        "HH3_lung_111313_12.png\n",
        "HH3_lung_111313_13 Overlap.png\n",
        "HH3_lung_111313_13.png\n",
        "HH3_lung_111313_2 Overlap.png\n",
        "HH3_lung_111313_2.png\n",
        "HH3_lung_111313_4 Overlap.png\n",
        "HH3_lung_111313_4.png\n",
        "HH3_lung_111313_5 Overlap.png\n",
        "HH3_lung_111313_5.png\n",
        "HH3_trachea_111313_1 Overlap.png\n",
        "HH3_trachea_111313_1.png\n",
        "HH3_trachea_111313_3 Overlap.png\n",
        "HH3_trachea_111313_3.png\n",
        "HH3_trachea_111313_4 Overlap.png\n",
        "HH3_trachea_111313_4.png\n",
        "HH3_trachea_111313_5 Overlap.png\n",
        "HH3_trachea_111313_5.png\n",
        "HH3_trachea_111313_6 Overlap.png\n",
        "HH3_trachea_111313_6.png\n",
        "HH3_trachea_111313_7 Overlap.png\n",
        "HH3_trachea_111313_7.png\n",
        "Neg_lung_111313_4 Overlap.png\n",
        "Neg_lung_111313_4.png\n",
        "Neg_lung_111313_5 Overlap.png\n",
        "Neg_lung_111313_5.png\n",
        "Neg_lung_111313_6 Overlap.png\n",
        "Neg_lung_111313_6.png\n",
        "Neg_trachea_111313_2 Overlap.png\n",
        "Neg_trachea_111313_2.png\n",
        "Neg_trachea_111313_3 Overlap.png\n",
        "Neg_trachea_111313_3.png\n",
        "Neg_trachea_111313_4 Overlap.png\n",
        "Neg_trachea_111313_4.png\n",
        "Neg_trachea_111313_5 Overlap.png\n",
        "Neg_trachea_111313_5.png\n",
        "Neg_trachea_111313_6 Overlap.png\n",
        "Neg_trachea_111313_6.png\n",
        "Neg_trachea_111313_7 Overlap.png\n",
        "Neg_trachea_111313_7.png\n",
        "Neg_trachea_111313_8 Overlap.png\n",
        "Neg_trachea_111313_8.png\n",
        "Neg_trachea_111313_9 Overlap.png\n",
        "Neg_trachea_111313_9.png\n",
        "SH3_20_lung_111313_13 Overlap.png\n",
        "SH3_20_lung_111313_13.png\n",
        "SH3_20_lung_111313_14 Overlap.png\n",
        "SH3_20_lung_111313_14.png\n",
        "SH3_20_lung_111313_15 Overlap.png\n",
        "SH3_20_lung_111313_15.png\n",
        "SH3_20_lung_111313_26 Overlap.png\n",
        "SH3_20_lung_111313_26.png\n",
        "SH3_20_lung_111313_27 Overlap.png\n",
        "SH3_20_lung_111313_27.png\n",
        "SH3_20_lung_111313_28 Overlap.png\n",
        "SH3_20_lung_111313_28.png\n",
        "SH3_20_lung_111313_29 Overlap.png\n",
        "SH3_20_lung_111313_29.png\n",
        "SH3_20_lung_111313_30 Overlap.png\n",
        "SH3_20_lung_111313_30.png\n",
        "SSH3_40_trachea_111313_1 Overlap.png\n",
        "SSH3_40_trachea_111313_1.png\n",
        "SSH3_40_trachea_111313_13 Overlap.png\n",
        "SSH3_40_trachea_111313_13.png\n",
        "SSH3_40_trachea_111313_14 Overlap.png\n",
        "SSH3_40_trachea_111313_14.png\n",
        "SSH3_40_trachea_111313_15 Overlap.png\n",
        "SSH3_40_trachea_111313_15.png\n",
        "SSH3_40_trachea_111313_16 Overlap.png\n",
        "SSH3_40_trachea_111313_16.png\n",
        "SSH3_40_trachea_111313_17 Overlap.png\n",
        "SSH3_40_trachea_111313_17.png\n",
        "SSH3_40_trachea_111313_2 Overlap.png\n",
        "SSH3_40_trachea_111313_2.png\n",
        "SSH3_40_trachea_111313_3 Overlap.png\n",
        "SSH3_40_trachea_111313_3.png\n",
        "SSH3_40_trachea_111313_4 Overlap.png\n",
        "SSH3_40_trachea_111313_4.png\n",
        "SSH3_40_trachea_111313_5 Overlap.png\n",
        "SSH3_40_trachea_111313_5.png\n",
        "SSH3_40_trachea_111313_6 Overlap.png\n",
        "SSH3_40_trachea_111313_6.png\n",
        "SSH3_40_trachea_111313_7 Overlap.png\n",
        "SSH3_40_trachea_111313_7.png\n",
        "SSH3_40_trachea_111313_8 Overlap.png\n",
        "SSH3_40_trachea_111313_8.png\n"
       ]
      }
     ],
     "prompt_number": 150
    },
    {
     "cell_type": "code",
     "collapsed": false,
     "input": [
      "tissue = 'lung'"
     ],
     "language": "python",
     "metadata": {},
     "outputs": [],
     "prompt_number": 169
    },
    {
     "cell_type": "code",
     "collapsed": false,
     "input": [
      "# get list of files in the directory, filter out only the lung ones\n",
      "\n",
      "images = []\n",
      "for f in files:\n",
      "    if 'png' in f and (tissue in f or tissue.upper() in f) and 'Overlap' not in f:\n",
      "        images.append(f)\n",
      "        print f"
     ],
     "language": "python",
     "metadata": {},
     "outputs": [
      {
       "output_type": "stream",
       "stream": "stdout",
       "text": [
        "HH3_lung_111313_11.png\n",
        "HH3_lung_111313_12.png\n",
        "HH3_lung_111313_13.png\n",
        "HH3_lung_111313_2.png\n",
        "HH3_lung_111313_4.png\n",
        "HH3_lung_111313_5.png\n",
        "Neg_lung_111313_4.png\n",
        "Neg_lung_111313_5.png\n",
        "Neg_lung_111313_6.png\n",
        "SH3_20_lung_111313_13.png\n",
        "SH3_20_lung_111313_14.png\n",
        "SH3_20_lung_111313_15.png\n",
        "SH3_20_lung_111313_26.png\n",
        "SH3_20_lung_111313_27.png\n",
        "SH3_20_lung_111313_28.png\n",
        "SH3_20_lung_111313_29.png\n",
        "SH3_20_lung_111313_30.png\n"
       ]
      }
     ],
     "prompt_number": 170
    },
    {
     "cell_type": "code",
     "collapsed": false,
     "input": [
      "# Sanity check: make sure the files are correct\n",
      "images"
     ],
     "language": "python",
     "metadata": {},
     "outputs": [
      {
       "metadata": {},
       "output_type": "pyout",
       "prompt_number": 171,
       "text": [
        "['HH3_lung_111313_11.png',\n",
        " 'HH3_lung_111313_12.png',\n",
        " 'HH3_lung_111313_13.png',\n",
        " 'HH3_lung_111313_2.png',\n",
        " 'HH3_lung_111313_4.png',\n",
        " 'HH3_lung_111313_5.png',\n",
        " 'Neg_lung_111313_4.png',\n",
        " 'Neg_lung_111313_5.png',\n",
        " 'Neg_lung_111313_6.png',\n",
        " 'SH3_20_lung_111313_13.png',\n",
        " 'SH3_20_lung_111313_14.png',\n",
        " 'SH3_20_lung_111313_15.png',\n",
        " 'SH3_20_lung_111313_26.png',\n",
        " 'SH3_20_lung_111313_27.png',\n",
        " 'SH3_20_lung_111313_28.png',\n",
        " 'SH3_20_lung_111313_29.png',\n",
        " 'SH3_20_lung_111313_30.png']"
       ]
      }
     ],
     "prompt_number": 171
    },
    {
     "cell_type": "code",
     "collapsed": false,
     "input": [
      "# get out the thresholds from the log files:\n",
      "red_log = open('parameter average threshold red channel %s.txt' % tissue, 'rU')\n",
      "red_lines = red_log.readlines()\n",
      "red_thresh = float(red_lines[0])\n",
      "print red_thresh\n",
      "red_log.close()\n",
      "\n",
      "red_log_pre_otsu = open('parameter average threshold red channel %s pre-otsu.txt' % tissue, 'rU')\n",
      "red_lines_pre_otsu = red_log_pre_otsu.readlines()\n",
      "red_thresh_pre_otsu = float(red_lines_pre_otsu[0])\n",
      "print red_thresh_pre_otsu\n",
      "red_log_pre_otsu.close()\n",
      "\n",
      "\n",
      "green_log = open('parameter average threshold green channel %s.txt' % tissue, 'rU')\n",
      "green_lines = green_log.readlines()\n",
      "green_thresh = float(green_lines[0])\n",
      "print green_thresh\n",
      "green_log.close()\n",
      "\n",
      "green_log_pre_otsu = open('parameter average threshold green channel %s pre-otsu.txt' % tissue, 'rU')\n",
      "green_lines_pre_otsu = green_log_pre_otsu.readlines()\n",
      "green_thresh_pre_otsu = float(green_lines_pre_otsu[0])\n",
      "print green_thresh_pre_otsu\n",
      "green_log_pre_otsu.close()"
     ],
     "language": "python",
     "metadata": {},
     "outputs": [
      {
       "output_type": "stream",
       "stream": "stdout",
       "text": [
        "0.338542\n",
        "0.101003\n",
        "0.126115\n",
        "0.305469\n"
       ]
      }
     ],
     "prompt_number": 172
    },
    {
     "cell_type": "code",
     "collapsed": false,
     "input": [
      "datas = []\n",
      "\n",
      "# Green and red channel disk size\n",
      "grndisk = 25\n",
      "reddisk = 25"
     ],
     "language": "python",
     "metadata": {},
     "outputs": [],
     "prompt_number": 173
    },
    {
     "cell_type": "code",
     "collapsed": false,
     "input": [
      "for f in images:\n",
      "    print f\n",
      "    img = loadshow_img(f)\n",
      "    \n",
      "    red = showchannel(img, 0)\n",
      "    red, x = threshold_image(red, red_thresh_pre_otsu)\n",
      "    red = entropy_image(red, reddisk)\n",
      "    red, x = threshold_image(red, red_thresh)\n",
      "    \n",
      "    green = showchannel(img, 1)\n",
      "    green, x = threshold_image(green, green_thresh_pre_otsu)\n",
      "    green = entropy_image(green, grndisk)\n",
      "    green, x = threshold_image(green, green_thresh)\n",
      "    \n",
      "    overlap = find_overlap(red, green)\n",
      "    print quantify_overlap(overlap)\n",
      "    \n",
      "    filename = '%s %s' % (f.split('.')[0], 'Overlap.png')\n",
      "    print filename\n",
      "    \n",
      "    imsave(filename, overlap)\n",
      "    \n",
      "    data = {}\n",
      "    data['Filename'] = f\n",
      "    data['Tissue'] = tissue\n",
      "    data['Sample or Control'] = f.split('_')[0]\n",
      "    data['Red-Green Overlap'] = quantify_overlap(overlap)\n",
      "    datas.append(data)"
     ],
     "language": "python",
     "metadata": {},
     "outputs": [
      {
       "output_type": "stream",
       "stream": "stdout",
       "text": [
        "HH3_lung_111313_11.png\n",
        "30781"
       ]
      },
      {
       "output_type": "stream",
       "stream": "stdout",
       "text": [
        "\n",
        "HH3_lung_111313_11 Overlap.png\n",
        "HH3_lung_111313_12.png"
       ]
      },
      {
       "output_type": "stream",
       "stream": "stdout",
       "text": [
        "\n",
        "54504"
       ]
      },
      {
       "output_type": "stream",
       "stream": "stdout",
       "text": [
        "\n",
        "HH3_lung_111313_12 Overlap.png\n",
        "HH3_lung_111313_13.png"
       ]
      },
      {
       "output_type": "stream",
       "stream": "stdout",
       "text": [
        "\n",
        "44801"
       ]
      },
      {
       "output_type": "stream",
       "stream": "stdout",
       "text": [
        "\n",
        "HH3_lung_111313_13 Overlap.png\n",
        "HH3_lung_111313_2.png"
       ]
      },
      {
       "output_type": "stream",
       "stream": "stdout",
       "text": [
        "\n",
        "21982"
       ]
      },
      {
       "output_type": "stream",
       "stream": "stdout",
       "text": [
        "\n",
        "HH3_lung_111313_2 Overlap.png\n",
        "HH3_lung_111313_4.png"
       ]
      },
      {
       "output_type": "stream",
       "stream": "stdout",
       "text": [
        "\n",
        "57126"
       ]
      },
      {
       "output_type": "stream",
       "stream": "stdout",
       "text": [
        "\n",
        "HH3_lung_111313_4 Overlap.png\n",
        "HH3_lung_111313_5.png"
       ]
      },
      {
       "output_type": "stream",
       "stream": "stdout",
       "text": [
        "\n",
        "57580"
       ]
      },
      {
       "output_type": "stream",
       "stream": "stdout",
       "text": [
        "\n",
        "HH3_lung_111313_5 Overlap.png\n",
        "Neg_lung_111313_4.png"
       ]
      },
      {
       "output_type": "stream",
       "stream": "stdout",
       "text": [
        "\n",
        "0"
       ]
      },
      {
       "output_type": "stream",
       "stream": "stdout",
       "text": [
        "\n",
        "Neg_lung_111313_4 Overlap.png\n",
        "Neg_lung_111313_5.png"
       ]
      },
      {
       "output_type": "stream",
       "stream": "stdout",
       "text": [
        "\n",
        "0"
       ]
      },
      {
       "output_type": "stream",
       "stream": "stdout",
       "text": [
        "\n",
        "Neg_lung_111313_5 Overlap.png\n",
        "Neg_lung_111313_6.png"
       ]
      },
      {
       "output_type": "stream",
       "stream": "stdout",
       "text": [
        "\n",
        "0"
       ]
      },
      {
       "output_type": "stream",
       "stream": "stdout",
       "text": [
        "\n",
        "Neg_lung_111313_6 Overlap.png\n",
        "SH3_20_lung_111313_13.png"
       ]
      },
      {
       "output_type": "stream",
       "stream": "stdout",
       "text": [
        "\n",
        "133937"
       ]
      },
      {
       "output_type": "stream",
       "stream": "stdout",
       "text": [
        "\n",
        "SH3_20_lung_111313_13 Overlap.png\n",
        "SH3_20_lung_111313_14.png"
       ]
      },
      {
       "output_type": "stream",
       "stream": "stdout",
       "text": [
        "\n",
        "125912"
       ]
      },
      {
       "output_type": "stream",
       "stream": "stdout",
       "text": [
        "\n",
        "SH3_20_lung_111313_14 Overlap.png\n",
        "SH3_20_lung_111313_15.png"
       ]
      },
      {
       "output_type": "stream",
       "stream": "stdout",
       "text": [
        "\n",
        "119032"
       ]
      },
      {
       "output_type": "stream",
       "stream": "stdout",
       "text": [
        "\n",
        "SH3_20_lung_111313_15 Overlap.png\n",
        "SH3_20_lung_111313_26.png"
       ]
      },
      {
       "output_type": "stream",
       "stream": "stdout",
       "text": [
        "\n",
        "66606"
       ]
      },
      {
       "output_type": "stream",
       "stream": "stdout",
       "text": [
        "\n",
        "SH3_20_lung_111313_26 Overlap.png\n",
        "SH3_20_lung_111313_27.png"
       ]
      },
      {
       "output_type": "stream",
       "stream": "stdout",
       "text": [
        "\n",
        "67782"
       ]
      },
      {
       "output_type": "stream",
       "stream": "stdout",
       "text": [
        "\n",
        "SH3_20_lung_111313_27 Overlap.png\n",
        "SH3_20_lung_111313_28.png"
       ]
      },
      {
       "output_type": "stream",
       "stream": "stdout",
       "text": [
        "\n",
        "88757"
       ]
      },
      {
       "output_type": "stream",
       "stream": "stdout",
       "text": [
        "\n",
        "SH3_20_lung_111313_28 Overlap.png\n",
        "SH3_20_lung_111313_29.png"
       ]
      },
      {
       "output_type": "stream",
       "stream": "stdout",
       "text": [
        "\n",
        "101488"
       ]
      },
      {
       "output_type": "stream",
       "stream": "stdout",
       "text": [
        "\n",
        "SH3_20_lung_111313_29 Overlap.png\n",
        "SH3_20_lung_111313_30.png"
       ]
      },
      {
       "output_type": "stream",
       "stream": "stdout",
       "text": [
        "\n",
        "83763"
       ]
      },
      {
       "output_type": "stream",
       "stream": "stdout",
       "text": [
        "\n",
        "SH3_20_lung_111313_30 Overlap.png\n"
       ]
      },
      {
       "metadata": {},
       "output_type": "display_data",
       "png": "[encoded data removed]",
       "text": [
        "<matplotlib.figure.Figure at 0x1099de450>"
       ]
      }
     ],
     "prompt_number": 175
    },
    {
     "cell_type": "code",
     "collapsed": false,
     "input": [
      "df = pd.DataFrame(datas)\n",
      "display(HTML(df.to_html()))\n",
      "df.to_csv('Red-Green Overlap %s.csv' % tissue)"
     ],
     "language": "python",
     "metadata": {},
     "outputs": [
      {
       "html": [
        "<table border=\"1\" class=\"dataframe\">\n",
        "  <thead>\n",
        "    <tr style=\"text-align: right;\">\n",
        "      <th></th>\n",
        "      <th>Filename</th>\n",
        "      <th>Red-Green Overlap</th>\n",
        "      <th>Sample or Control</th>\n",
        "      <th>Tissue</th>\n",
        "    </tr>\n",
        "  </thead>\n",
        "  <tbody>\n",
        "    <tr>\n",
        "      <th>0 </th>\n",
        "      <td>    HH3_lung_111313_11.png</td>\n",
        "      <td>  23626</td>\n",
        "      <td> HH3</td>\n",
        "      <td> lung</td>\n",
        "    </tr>\n",
        "    <tr>\n",
        "      <th>1 </th>\n",
        "      <td>    HH3_lung_111313_12.png</td>\n",
        "      <td>  41035</td>\n",
        "      <td> HH3</td>\n",
        "      <td> lung</td>\n",
        "    </tr>\n",
        "    <tr>\n",
        "      <th>2 </th>\n",
        "      <td>    HH3_lung_111313_13.png</td>\n",
        "      <td>  31948</td>\n",
        "      <td> HH3</td>\n",
        "      <td> lung</td>\n",
        "    </tr>\n",
        "    <tr>\n",
        "      <th>3 </th>\n",
        "      <td>     HH3_lung_111313_2.png</td>\n",
        "      <td>  11079</td>\n",
        "      <td> HH3</td>\n",
        "      <td> lung</td>\n",
        "    </tr>\n",
        "    <tr>\n",
        "      <th>4 </th>\n",
        "      <td>     HH3_lung_111313_4.png</td>\n",
        "      <td>  49023</td>\n",
        "      <td> HH3</td>\n",
        "      <td> lung</td>\n",
        "    </tr>\n",
        "    <tr>\n",
        "      <th>5 </th>\n",
        "      <td>     HH3_lung_111313_5.png</td>\n",
        "      <td>  48535</td>\n",
        "      <td> HH3</td>\n",
        "      <td> lung</td>\n",
        "    </tr>\n",
        "    <tr>\n",
        "      <th>6 </th>\n",
        "      <td>     Neg_lung_111313_4.png</td>\n",
        "      <td> 392256</td>\n",
        "      <td> Neg</td>\n",
        "      <td> lung</td>\n",
        "    </tr>\n",
        "    <tr>\n",
        "      <th>7 </th>\n",
        "      <td>    HH3_lung_111313_11.png</td>\n",
        "      <td>  30781</td>\n",
        "      <td> HH3</td>\n",
        "      <td> lung</td>\n",
        "    </tr>\n",
        "    <tr>\n",
        "      <th>8 </th>\n",
        "      <td>    HH3_lung_111313_12.png</td>\n",
        "      <td>  54504</td>\n",
        "      <td> HH3</td>\n",
        "      <td> lung</td>\n",
        "    </tr>\n",
        "    <tr>\n",
        "      <th>9 </th>\n",
        "      <td>    HH3_lung_111313_13.png</td>\n",
        "      <td>  44801</td>\n",
        "      <td> HH3</td>\n",
        "      <td> lung</td>\n",
        "    </tr>\n",
        "    <tr>\n",
        "      <th>10</th>\n",
        "      <td>     HH3_lung_111313_2.png</td>\n",
        "      <td>  21982</td>\n",
        "      <td> HH3</td>\n",
        "      <td> lung</td>\n",
        "    </tr>\n",
        "    <tr>\n",
        "      <th>11</th>\n",
        "      <td>     HH3_lung_111313_4.png</td>\n",
        "      <td>  57126</td>\n",
        "      <td> HH3</td>\n",
        "      <td> lung</td>\n",
        "    </tr>\n",
        "    <tr>\n",
        "      <th>12</th>\n",
        "      <td>     HH3_lung_111313_5.png</td>\n",
        "      <td>  57580</td>\n",
        "      <td> HH3</td>\n",
        "      <td> lung</td>\n",
        "    </tr>\n",
        "    <tr>\n",
        "      <th>13</th>\n",
        "      <td>     Neg_lung_111313_4.png</td>\n",
        "      <td>      0</td>\n",
        "      <td> Neg</td>\n",
        "      <td> lung</td>\n",
        "    </tr>\n",
        "    <tr>\n",
        "      <th>14</th>\n",
        "      <td>     Neg_lung_111313_5.png</td>\n",
        "      <td>      0</td>\n",
        "      <td> Neg</td>\n",
        "      <td> lung</td>\n",
        "    </tr>\n",
        "    <tr>\n",
        "      <th>15</th>\n",
        "      <td>     Neg_lung_111313_6.png</td>\n",
        "      <td>      0</td>\n",
        "      <td> Neg</td>\n",
        "      <td> lung</td>\n",
        "    </tr>\n",
        "    <tr>\n",
        "      <th>16</th>\n",
        "      <td> SH3_20_lung_111313_13.png</td>\n",
        "      <td> 133937</td>\n",
        "      <td> SH3</td>\n",
        "      <td> lung</td>\n",
        "    </tr>\n",
        "    <tr>\n",
        "      <th>17</th>\n",
        "      <td> SH3_20_lung_111313_14.png</td>\n",
        "      <td> 125912</td>\n",
        "      <td> SH3</td>\n",
        "      <td> lung</td>\n",
        "    </tr>\n",
        "    <tr>\n",
        "      <th>18</th>\n",
        "      <td> SH3_20_lung_111313_15.png</td>\n",
        "      <td> 119032</td>\n",
        "      <td> SH3</td>\n",
        "      <td> lung</td>\n",
        "    </tr>\n",
        "    <tr>\n",
        "      <th>19</th>\n",
        "      <td> SH3_20_lung_111313_26.png</td>\n",
        "      <td>  66606</td>\n",
        "      <td> SH3</td>\n",
        "      <td> lung</td>\n",
        "    </tr>\n",
        "    <tr>\n",
        "      <th>20</th>\n",
        "      <td> SH3_20_lung_111313_27.png</td>\n",
        "      <td>  67782</td>\n",
        "      <td> SH3</td>\n",
        "      <td> lung</td>\n",
        "    </tr>\n",
        "    <tr>\n",
        "      <th>21</th>\n",
        "      <td> SH3_20_lung_111313_28.png</td>\n",
        "      <td>  88757</td>\n",
        "      <td> SH3</td>\n",
        "      <td> lung</td>\n",
        "    </tr>\n",
        "    <tr>\n",
        "      <th>22</th>\n",
        "      <td> SH3_20_lung_111313_29.png</td>\n",
        "      <td> 101488</td>\n",
        "      <td> SH3</td>\n",
        "      <td> lung</td>\n",
        "    </tr>\n",
        "    <tr>\n",
        "      <th>23</th>\n",
        "      <td> SH3_20_lung_111313_30.png</td>\n",
        "      <td>  83763</td>\n",
        "      <td> SH3</td>\n",
        "      <td> lung</td>\n",
        "    </tr>\n",
        "  </tbody>\n",
        "</table>"
       ],
       "metadata": {},
       "output_type": "display_data",
       "text": [
        "<IPython.core.display.HTML at 0x1099b4b10>"
       ]
      }
     ],
     "prompt_number": 176
    },
    {
     "cell_type": "code",
     "collapsed": false,
     "input": [],
     "language": "python",
     "metadata": {},
     "outputs": [],
     "prompt_number": 137
    }
   ],
   "metadata": {}
  }
 ]
}