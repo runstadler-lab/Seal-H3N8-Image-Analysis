{
 "metadata": {
  "name": "",
  "signature": "sha256:00e9df5c5dbb92701588393a7ba3f09092a134b38e6eb9e01a50f816cefd3427"
 },
 "nbformat": 3,
 "nbformat_minor": 0,
 "worksheets": [
  {
   "cells": [
    {
     "cell_type": "code",
     "collapsed": false,
     "input": [
      "from os import listdir\n",
      "from os.path import isfile, join\n",
      "from rgprocessing import *\n",
      "from IPython.display import HTML\n",
      "from skimage.io import imsave\n",
      "from skimage.filter import threshold_otsu, threshold_adaptive\n",
      "from __future__ import division\n",
      "\n",
      "import os\n",
      "import skimage\n",
      "import pandas as pd\n",
      "import numpy as np\n"
     ],
     "language": "python",
     "metadata": {},
     "outputs": [],
     "prompt_number": 86
    },
    {
     "cell_type": "code",
     "collapsed": false,
     "input": [
      "tissue = 'Human Lung'\n",
      "date = str(100814)"
     ],
     "language": "python",
     "metadata": {},
     "outputs": [],
     "prompt_number": 87
    },
    {
     "cell_type": "code",
     "collapsed": false,
     "input": [
      "# Identify all subfolders that house the different groups.\n",
      "groups = ['Human/Human Lung/',\n",
      "          'Human/Ferret Lung/',\n",
      "          'Negative/Human Lung/',\n",
      "          'Negative/Ferret Lung/',\n",
      "          'Seal/Human Lung/',\n",
      "          'Seal/Ferret Lung/']\n",
      "\n",
      "images = []\n",
      "for group in groups:\n",
      "#     print os.listdir(group)\n",
      "    for f in os.listdir(group):\n",
      "        if 'tif' in f and date in f:\n",
      "            images.append(group + f)\n",
      "        \n",
      "images"
     ],
     "language": "python",
     "metadata": {},
     "outputs": [
      {
       "metadata": {},
       "output_type": "pyout",
       "prompt_number": 88,
       "text": [
        "['Human/Ferret Lung/HH3_fer_Lung2_100814_1.tif',\n",
        " 'Human/Ferret Lung/HH3_fer_Lung2_100814_10.tif',\n",
        " 'Human/Ferret Lung/HH3_fer_Lung2_100814_2.tif',\n",
        " 'Human/Ferret Lung/HH3_fer_Lung2_100814_3.tif',\n",
        " 'Human/Ferret Lung/HH3_fer_Lung2_100814_4.tif',\n",
        " 'Human/Ferret Lung/HH3_fer_Lung2_100814_5.tif',\n",
        " 'Human/Ferret Lung/HH3_fer_Lung2_100814_6.tif',\n",
        " 'Human/Ferret Lung/HH3_fer_Lung2_100814_7.tif',\n",
        " 'Human/Ferret Lung/HH3_fer_Lung2_100814_8.tif',\n",
        " 'Human/Ferret Lung/HH3_fer_Lung2_100814_9.tif',\n",
        " 'Negative/Ferret Lung/Neg_fer_Lung2_100814_1.tif',\n",
        " 'Negative/Ferret Lung/Neg_fer_Lung2_100814_10.tif',\n",
        " 'Negative/Ferret Lung/Neg_fer_Lung2_100814_11.tif',\n",
        " 'Negative/Ferret Lung/Neg_fer_Lung2_100814_12.tif',\n",
        " 'Negative/Ferret Lung/Neg_fer_Lung2_100814_3.tif',\n",
        " 'Negative/Ferret Lung/Neg_fer_Lung2_100814_4.tif',\n",
        " 'Negative/Ferret Lung/Neg_fer_Lung2_100814_5.tif',\n",
        " 'Negative/Ferret Lung/Neg_fer_Lung2_100814_6.tif',\n",
        " 'Negative/Ferret Lung/Neg_fer_Lung2_100814_8.tif',\n",
        " 'Negative/Ferret Lung/Neg_fer_Lung2_100814_9.tif',\n",
        " 'Seal/Ferret Lung/SH3_fer_Lung2_100814_11.tif',\n",
        " 'Seal/Ferret Lung/SH3_fer_Lung2_100814_12.tif',\n",
        " 'Seal/Ferret Lung/SH3_fer_Lung2_100814_13.tif',\n",
        " 'Seal/Ferret Lung/SH3_fer_Lung2_100814_15.tif',\n",
        " 'Seal/Ferret Lung/SH3_fer_Lung2_100814_16.tif',\n",
        " 'Seal/Ferret Lung/SH3_fer_Lung2_100814_17.tif',\n",
        " 'Seal/Ferret Lung/SH3_fer_Lung2_100814_18.tif',\n",
        " 'Seal/Ferret Lung/SH3_fer_Lung2_100814_19.tif',\n",
        " 'Seal/Ferret Lung/SH3_fer_Lung2_100814_5.tif',\n",
        " 'Seal/Ferret Lung/SH3_fer_Lung2_100814_9.tif']"
       ]
      }
     ],
     "prompt_number": 88
    },
    {
     "cell_type": "code",
     "collapsed": false,
     "input": [
      "# get out the thresholds from the log files:\n",
      "red_log = open('parameter average threshold red channel %s.txt' % ('Human Trachea'+' '+date), 'rU')\n",
      "red_lines = red_log.readlines()\n",
      "red_thresh = float(red_lines[0])\n",
      "print red_thresh\n",
      "red_log.close()\n",
      "\n",
      "red_log_pre_otsu = open('parameter average threshold red channel %s pre-otsu.txt' % ('Human Trachea'+' '+date), 'rU')\n",
      "red_lines_pre_otsu = red_log_pre_otsu.readlines()\n",
      "red_thresh_pre_otsu = float(red_lines_pre_otsu[0])\n",
      "print red_thresh_pre_otsu\n",
      "red_log_pre_otsu.close()\n",
      "\n",
      "\n",
      "green_log = open('parameter average threshold green channel %s.txt' % ('Human Trachea'+' '+date), 'rU')\n",
      "green_lines = green_log.readlines()\n",
      "green_thresh = float(green_lines[0])\n",
      "print green_thresh\n",
      "green_log.close()\n",
      "\n",
      "green_log_pre_otsu = open('parameter average threshold green channel %s pre-otsu.txt' % ('Human Trachea'+' '+date), 'rU')\n",
      "green_lines_pre_otsu = green_log_pre_otsu.readlines()\n",
      "green_thresh_pre_otsu = float(green_lines_pre_otsu[0])\n",
      "print green_thresh_pre_otsu\n",
      "green_log_pre_otsu.close()"
     ],
     "language": "python",
     "metadata": {},
     "outputs": [
      {
       "output_type": "stream",
       "stream": "stdout",
       "text": [
        "0.396484\n",
        "29.0\n",
        "0.261965\n",
        "63.0\n"
       ]
      }
     ],
     "prompt_number": 89
    },
    {
     "cell_type": "code",
     "collapsed": false,
     "input": [
      "datas = []\n",
      "\n",
      "# Green and red channel disk size\n",
      "grndisk = 10\n",
      "reddisk = 20\n",
      "\n",
      "for f in images:\n",
      "    print f\n",
      "    img = loadshow_img(f)\n",
      "    height, width = np.shape(img[:,:,0])\n",
      "    \n",
      "    red_img = showchannel(img, 0)\n",
      "    \n",
      "    red_thresholded, _ = threshold_image(red_img, red_thresh_pre_otsu)\n",
      "    filename = '%s %s' % (f.split('.')[0], 'Red Thresholded.png')\n",
      "    imsave(filename, red_thresholded)\n",
      "    \n",
      "    red_entropy = entropy_image(red_thresholded, reddisk)\n",
      "    filename = '%s %s' % (f.split('.')[0], 'Red Entropy.png')\n",
      "    imsave(filename, red_entropy)\n",
      "    \n",
      "    red_entropy_thresholded, _ = threshold_image(red_entropy, red_thresh)\n",
      "    filename = '%s %s' % (f.split('.')[0], 'Red Entropy Thresholded.png')\n",
      "    imsave(filename, red_entropy_thresholded)\n",
      "    \n",
      "    ###\n",
      "    \n",
      "    green_img = showchannel(img, 1)\n",
      "    \n",
      "    green_thresholded, _ = threshold_image(green_img, green_thresh_pre_otsu)\n",
      "    filename = '%s %s' % (f.split('.')[0], 'Green Thresholded.png')\n",
      "    imsave(filename, green_thresholded)\n",
      "    \n",
      "    green_entropy = entropy_image(green_thresholded, grndisk)\n",
      "    filename = '%s %s' % (f.split('.')[0], 'Green Entropy.png')\n",
      "    imsave(filename, green_entropy)\n",
      "    \n",
      "    green_entropy_thresholded, _ = threshold_image(green_entropy, green_thresh)\n",
      "    filename = '%s %s' % (f.split('.')[0], 'Green Entropy Thresholded.png')\n",
      "    imsave(filename, green_entropy_thresholded)\n",
      "    \n",
      "    overlap = find_overlap(red_entropy_thresholded, green_entropy_thresholded) * 1.0\n",
      "        \n",
      "    filename = '%s %s' % (f.split('.')[0], 'Overlap.png')\n",
      "    print filename\n",
      "    \n",
      "    imsave(filename, overlap)\n",
      "    \n",
      "    data = {}\n",
      "    data['Filename'] = f\n",
      "    data['Tissue'] = tissue\n",
      "    data['Sample or Control'] = f.split('_')[0]\n",
      "    data['Red-Green Overlap'] = quantify_overlap(overlap)\n",
      "    datas.append(data)"
     ],
     "language": "python",
     "metadata": {},
     "outputs": [
      {
       "output_type": "stream",
       "stream": "stdout",
       "text": [
        "Human/Ferret Lung/HH3_fer_Lung2_100814_1.tif\n",
        "Human/Ferret Lung/HH3_fer_Lung2_100814_1 Overlap.png"
       ]
      },
      {
       "output_type": "stream",
       "stream": "stdout",
       "text": [
        "\n",
        "Human/Ferret Lung/HH3_fer_Lung2_100814_10.tif\n",
        "Human/Ferret Lung/HH3_fer_Lung2_100814_10 Overlap.png"
       ]
      },
      {
       "output_type": "stream",
       "stream": "stdout",
       "text": [
        "\n",
        "Human/Ferret Lung/HH3_fer_Lung2_100814_2.tif\n",
        "Human/Ferret Lung/HH3_fer_Lung2_100814_2 Overlap.png"
       ]
      },
      {
       "output_type": "stream",
       "stream": "stdout",
       "text": [
        "\n",
        "Human/Ferret Lung/HH3_fer_Lung2_100814_3.tif\n",
        "Human/Ferret Lung/HH3_fer_Lung2_100814_3 Overlap.png"
       ]
      },
      {
       "output_type": "stream",
       "stream": "stdout",
       "text": [
        "\n",
        "Human/Ferret Lung/HH3_fer_Lung2_100814_4.tif\n",
        "Human/Ferret Lung/HH3_fer_Lung2_100814_4 Overlap.png"
       ]
      },
      {
       "output_type": "stream",
       "stream": "stdout",
       "text": [
        "\n",
        "Human/Ferret Lung/HH3_fer_Lung2_100814_5.tif\n",
        "Human/Ferret Lung/HH3_fer_Lung2_100814_5 Overlap.png"
       ]
      },
      {
       "output_type": "stream",
       "stream": "stdout",
       "text": [
        "\n",
        "Human/Ferret Lung/HH3_fer_Lung2_100814_6.tif"
       ]
      },
      {
       "output_type": "stream",
       "stream": "stdout",
       "text": [
        "\n",
        "Human/Ferret Lung/HH3_fer_Lung2_100814_6 Overlap.png"
       ]
      },
      {
       "output_type": "stream",
       "stream": "stdout",
       "text": [
        "\n",
        "Human/Ferret Lung/HH3_fer_Lung2_100814_7.tif"
       ]
      },
      {
       "output_type": "stream",
       "stream": "stdout",
       "text": [
        "\n",
        "Human/Ferret Lung/HH3_fer_Lung2_100814_7 Overlap.png"
       ]
      },
      {
       "output_type": "stream",
       "stream": "stdout",
       "text": [
        "\n",
        "Human/Ferret Lung/HH3_fer_Lung2_100814_8.tif"
       ]
      },
      {
       "output_type": "stream",
       "stream": "stdout",
       "text": [
        "\n",
        "Human/Ferret Lung/HH3_fer_Lung2_100814_8 Overlap.png"
       ]
      },
      {
       "output_type": "stream",
       "stream": "stdout",
       "text": [
        "\n",
        "Human/Ferret Lung/HH3_fer_Lung2_100814_9.tif\n",
        "Human/Ferret Lung/HH3_fer_Lung2_100814_9 Overlap.png"
       ]
      },
      {
       "output_type": "stream",
       "stream": "stdout",
       "text": [
        "\n",
        "Negative/Ferret Lung/Neg_fer_Lung2_100814_1.tif\n",
        "Negative/Ferret Lung/Neg_fer_Lung2_100814_1 Overlap.png"
       ]
      },
      {
       "output_type": "stream",
       "stream": "stdout",
       "text": [
        "\n",
        "Negative/Ferret Lung/Neg_fer_Lung2_100814_10.tif\n",
        "Negative/Ferret Lung/Neg_fer_Lung2_100814_10 Overlap.png"
       ]
      },
      {
       "output_type": "stream",
       "stream": "stdout",
       "text": [
        "\n",
        "Negative/Ferret Lung/Neg_fer_Lung2_100814_11.tif\n",
        "Negative/Ferret Lung/Neg_fer_Lung2_100814_11 Overlap.png"
       ]
      },
      {
       "output_type": "stream",
       "stream": "stdout",
       "text": [
        "\n",
        "Negative/Ferret Lung/Neg_fer_Lung2_100814_12.tif\n",
        "Negative/Ferret Lung/Neg_fer_Lung2_100814_12 Overlap.png"
       ]
      },
      {
       "output_type": "stream",
       "stream": "stdout",
       "text": [
        "\n",
        "Negative/Ferret Lung/Neg_fer_Lung2_100814_3.tif\n",
        "Negative/Ferret Lung/Neg_fer_Lung2_100814_3 Overlap.png"
       ]
      },
      {
       "output_type": "stream",
       "stream": "stdout",
       "text": [
        "\n",
        "Negative/Ferret Lung/Neg_fer_Lung2_100814_4.tif\n",
        "Negative/Ferret Lung/Neg_fer_Lung2_100814_4 Overlap.png"
       ]
      },
      {
       "output_type": "stream",
       "stream": "stdout",
       "text": [
        "\n",
        "Negative/Ferret Lung/Neg_fer_Lung2_100814_5.tif\n",
        "Negative/Ferret Lung/Neg_fer_Lung2_100814_5 Overlap.png"
       ]
      },
      {
       "output_type": "stream",
       "stream": "stdout",
       "text": [
        "\n",
        "Negative/Ferret Lung/Neg_fer_Lung2_100814_6.tif\n",
        "Negative/Ferret Lung/Neg_fer_Lung2_100814_6 Overlap.png"
       ]
      },
      {
       "output_type": "stream",
       "stream": "stdout",
       "text": [
        "\n",
        "Negative/Ferret Lung/Neg_fer_Lung2_100814_8.tif\n",
        "Negative/Ferret Lung/Neg_fer_Lung2_100814_8 Overlap.png"
       ]
      },
      {
       "output_type": "stream",
       "stream": "stdout",
       "text": [
        "\n",
        "Negative/Ferret Lung/Neg_fer_Lung2_100814_9.tif\n",
        "Negative/Ferret Lung/Neg_fer_Lung2_100814_9 Overlap.png"
       ]
      },
      {
       "output_type": "stream",
       "stream": "stdout",
       "text": [
        "\n",
        "Seal/Ferret Lung/SH3_fer_Lung2_100814_11.tif\n",
        "Seal/Ferret Lung/SH3_fer_Lung2_100814_11 Overlap.png"
       ]
      },
      {
       "output_type": "stream",
       "stream": "stdout",
       "text": [
        "\n",
        "Seal/Ferret Lung/SH3_fer_Lung2_100814_12.tif\n",
        "Seal/Ferret Lung/SH3_fer_Lung2_100814_12 Overlap.png"
       ]
      },
      {
       "output_type": "stream",
       "stream": "stdout",
       "text": [
        "\n",
        "Seal/Ferret Lung/SH3_fer_Lung2_100814_13.tif\n",
        "Seal/Ferret Lung/SH3_fer_Lung2_100814_13 Overlap.png"
       ]
      },
      {
       "output_type": "stream",
       "stream": "stdout",
       "text": [
        "\n",
        "Seal/Ferret Lung/SH3_fer_Lung2_100814_15.tif\n",
        "Seal/Ferret Lung/SH3_fer_Lung2_100814_15 Overlap.png"
       ]
      },
      {
       "output_type": "stream",
       "stream": "stdout",
       "text": [
        "\n",
        "Seal/Ferret Lung/SH3_fer_Lung2_100814_16.tif\n",
        "Seal/Ferret Lung/SH3_fer_Lung2_100814_16 Overlap.png"
       ]
      },
      {
       "output_type": "stream",
       "stream": "stdout",
       "text": [
        "\n",
        "Seal/Ferret Lung/SH3_fer_Lung2_100814_17.tif\n",
        "Seal/Ferret Lung/SH3_fer_Lung2_100814_17 Overlap.png"
       ]
      },
      {
       "output_type": "stream",
       "stream": "stdout",
       "text": [
        "\n",
        "Seal/Ferret Lung/SH3_fer_Lung2_100814_18.tif\n",
        "Seal/Ferret Lung/SH3_fer_Lung2_100814_18 Overlap.png"
       ]
      },
      {
       "output_type": "stream",
       "stream": "stdout",
       "text": [
        "\n",
        "Seal/Ferret Lung/SH3_fer_Lung2_100814_19.tif\n",
        "Seal/Ferret Lung/SH3_fer_Lung2_100814_19 Overlap.png"
       ]
      },
      {
       "output_type": "stream",
       "stream": "stdout",
       "text": [
        "\n",
        "Seal/Ferret Lung/SH3_fer_Lung2_100814_5.tif\n",
        "Seal/Ferret Lung/SH3_fer_Lung2_100814_5 Overlap.png"
       ]
      },
      {
       "output_type": "stream",
       "stream": "stdout",
       "text": [
        "\n",
        "Seal/Ferret Lung/SH3_fer_Lung2_100814_9.tif\n",
        "Seal/Ferret Lung/SH3_fer_Lung2_100814_9 Overlap.png"
       ]
      },
      {
       "output_type": "stream",
       "stream": "stdout",
       "text": [
        "\n"
       ]
      }
     ],
     "prompt_number": 90
    },
    {
     "cell_type": "code",
     "collapsed": false,
     "input": [
      "datas"
     ],
     "language": "python",
     "metadata": {},
     "outputs": [
      {
       "metadata": {},
       "output_type": "pyout",
       "prompt_number": 91,
       "text": [
        "[{'Filename': 'Human/Ferret Lung/HH3_fer_Lung2_100814_1.tif',\n",
        "  'Red-Green Overlap': 399921.0,\n",
        "  'Sample or Control': 'Human/Ferret Lung/HH3',\n",
        "  'Tissue': 'Human Lung'},\n",
        " {'Filename': 'Human/Ferret Lung/HH3_fer_Lung2_100814_10.tif',\n",
        "  'Red-Green Overlap': 298195.0,\n",
        "  'Sample or Control': 'Human/Ferret Lung/HH3',\n",
        "  'Tissue': 'Human Lung'},\n",
        " {'Filename': 'Human/Ferret Lung/HH3_fer_Lung2_100814_2.tif',\n",
        "  'Red-Green Overlap': 367010.0,\n",
        "  'Sample or Control': 'Human/Ferret Lung/HH3',\n",
        "  'Tissue': 'Human Lung'},\n",
        " {'Filename': 'Human/Ferret Lung/HH3_fer_Lung2_100814_3.tif',\n",
        "  'Red-Green Overlap': 277030.0,\n",
        "  'Sample or Control': 'Human/Ferret Lung/HH3',\n",
        "  'Tissue': 'Human Lung'},\n",
        " {'Filename': 'Human/Ferret Lung/HH3_fer_Lung2_100814_4.tif',\n",
        "  'Red-Green Overlap': 270130.0,\n",
        "  'Sample or Control': 'Human/Ferret Lung/HH3',\n",
        "  'Tissue': 'Human Lung'},\n",
        " {'Filename': 'Human/Ferret Lung/HH3_fer_Lung2_100814_5.tif',\n",
        "  'Red-Green Overlap': 345387.0,\n",
        "  'Sample or Control': 'Human/Ferret Lung/HH3',\n",
        "  'Tissue': 'Human Lung'},\n",
        " {'Filename': 'Human/Ferret Lung/HH3_fer_Lung2_100814_6.tif',\n",
        "  'Red-Green Overlap': 307004.0,\n",
        "  'Sample or Control': 'Human/Ferret Lung/HH3',\n",
        "  'Tissue': 'Human Lung'},\n",
        " {'Filename': 'Human/Ferret Lung/HH3_fer_Lung2_100814_7.tif',\n",
        "  'Red-Green Overlap': 261862.0,\n",
        "  'Sample or Control': 'Human/Ferret Lung/HH3',\n",
        "  'Tissue': 'Human Lung'},\n",
        " {'Filename': 'Human/Ferret Lung/HH3_fer_Lung2_100814_8.tif',\n",
        "  'Red-Green Overlap': 409405.0,\n",
        "  'Sample or Control': 'Human/Ferret Lung/HH3',\n",
        "  'Tissue': 'Human Lung'},\n",
        " {'Filename': 'Human/Ferret Lung/HH3_fer_Lung2_100814_9.tif',\n",
        "  'Red-Green Overlap': 316520.0,\n",
        "  'Sample or Control': 'Human/Ferret Lung/HH3',\n",
        "  'Tissue': 'Human Lung'},\n",
        " {'Filename': 'Negative/Ferret Lung/Neg_fer_Lung2_100814_1.tif',\n",
        "  'Red-Green Overlap': 38695.0,\n",
        "  'Sample or Control': 'Negative/Ferret Lung/Neg',\n",
        "  'Tissue': 'Human Lung'},\n",
        " {'Filename': 'Negative/Ferret Lung/Neg_fer_Lung2_100814_10.tif',\n",
        "  'Red-Green Overlap': 13541.0,\n",
        "  'Sample or Control': 'Negative/Ferret Lung/Neg',\n",
        "  'Tissue': 'Human Lung'},\n",
        " {'Filename': 'Negative/Ferret Lung/Neg_fer_Lung2_100814_11.tif',\n",
        "  'Red-Green Overlap': 25997.0,\n",
        "  'Sample or Control': 'Negative/Ferret Lung/Neg',\n",
        "  'Tissue': 'Human Lung'},\n",
        " {'Filename': 'Negative/Ferret Lung/Neg_fer_Lung2_100814_12.tif',\n",
        "  'Red-Green Overlap': 38702.0,\n",
        "  'Sample or Control': 'Negative/Ferret Lung/Neg',\n",
        "  'Tissue': 'Human Lung'},\n",
        " {'Filename': 'Negative/Ferret Lung/Neg_fer_Lung2_100814_3.tif',\n",
        "  'Red-Green Overlap': 24637.0,\n",
        "  'Sample or Control': 'Negative/Ferret Lung/Neg',\n",
        "  'Tissue': 'Human Lung'},\n",
        " {'Filename': 'Negative/Ferret Lung/Neg_fer_Lung2_100814_4.tif',\n",
        "  'Red-Green Overlap': 28350.0,\n",
        "  'Sample or Control': 'Negative/Ferret Lung/Neg',\n",
        "  'Tissue': 'Human Lung'},\n",
        " {'Filename': 'Negative/Ferret Lung/Neg_fer_Lung2_100814_5.tif',\n",
        "  'Red-Green Overlap': 29588.0,\n",
        "  'Sample or Control': 'Negative/Ferret Lung/Neg',\n",
        "  'Tissue': 'Human Lung'},\n",
        " {'Filename': 'Negative/Ferret Lung/Neg_fer_Lung2_100814_6.tif',\n",
        "  'Red-Green Overlap': 17959.0,\n",
        "  'Sample or Control': 'Negative/Ferret Lung/Neg',\n",
        "  'Tissue': 'Human Lung'},\n",
        " {'Filename': 'Negative/Ferret Lung/Neg_fer_Lung2_100814_8.tif',\n",
        "  'Red-Green Overlap': 13988.0,\n",
        "  'Sample or Control': 'Negative/Ferret Lung/Neg',\n",
        "  'Tissue': 'Human Lung'},\n",
        " {'Filename': 'Negative/Ferret Lung/Neg_fer_Lung2_100814_9.tif',\n",
        "  'Red-Green Overlap': 31250.0,\n",
        "  'Sample or Control': 'Negative/Ferret Lung/Neg',\n",
        "  'Tissue': 'Human Lung'},\n",
        " {'Filename': 'Seal/Ferret Lung/SH3_fer_Lung2_100814_11.tif',\n",
        "  'Red-Green Overlap': 218614.0,\n",
        "  'Sample or Control': 'Seal/Ferret Lung/SH3',\n",
        "  'Tissue': 'Human Lung'},\n",
        " {'Filename': 'Seal/Ferret Lung/SH3_fer_Lung2_100814_12.tif',\n",
        "  'Red-Green Overlap': 183187.0,\n",
        "  'Sample or Control': 'Seal/Ferret Lung/SH3',\n",
        "  'Tissue': 'Human Lung'},\n",
        " {'Filename': 'Seal/Ferret Lung/SH3_fer_Lung2_100814_13.tif',\n",
        "  'Red-Green Overlap': 257694.0,\n",
        "  'Sample or Control': 'Seal/Ferret Lung/SH3',\n",
        "  'Tissue': 'Human Lung'},\n",
        " {'Filename': 'Seal/Ferret Lung/SH3_fer_Lung2_100814_15.tif',\n",
        "  'Red-Green Overlap': 185846.0,\n",
        "  'Sample or Control': 'Seal/Ferret Lung/SH3',\n",
        "  'Tissue': 'Human Lung'},\n",
        " {'Filename': 'Seal/Ferret Lung/SH3_fer_Lung2_100814_16.tif',\n",
        "  'Red-Green Overlap': 170770.0,\n",
        "  'Sample or Control': 'Seal/Ferret Lung/SH3',\n",
        "  'Tissue': 'Human Lung'},\n",
        " {'Filename': 'Seal/Ferret Lung/SH3_fer_Lung2_100814_17.tif',\n",
        "  'Red-Green Overlap': 216283.0,\n",
        "  'Sample or Control': 'Seal/Ferret Lung/SH3',\n",
        "  'Tissue': 'Human Lung'},\n",
        " {'Filename': 'Seal/Ferret Lung/SH3_fer_Lung2_100814_18.tif',\n",
        "  'Red-Green Overlap': 349301.0,\n",
        "  'Sample or Control': 'Seal/Ferret Lung/SH3',\n",
        "  'Tissue': 'Human Lung'},\n",
        " {'Filename': 'Seal/Ferret Lung/SH3_fer_Lung2_100814_19.tif',\n",
        "  'Red-Green Overlap': 313466.0,\n",
        "  'Sample or Control': 'Seal/Ferret Lung/SH3',\n",
        "  'Tissue': 'Human Lung'},\n",
        " {'Filename': 'Seal/Ferret Lung/SH3_fer_Lung2_100814_5.tif',\n",
        "  'Red-Green Overlap': 200185.0,\n",
        "  'Sample or Control': 'Seal/Ferret Lung/SH3',\n",
        "  'Tissue': 'Human Lung'},\n",
        " {'Filename': 'Seal/Ferret Lung/SH3_fer_Lung2_100814_9.tif',\n",
        "  'Red-Green Overlap': 218574.0,\n",
        "  'Sample or Control': 'Seal/Ferret Lung/SH3',\n",
        "  'Tissue': 'Human Lung'}]"
       ]
      }
     ],
     "prompt_number": 91
    },
    {
     "cell_type": "code",
     "collapsed": false,
     "input": [
      "df = pd.DataFrame(datas)\n",
      "# display(HTML(df.to_html()))\n",
      "df.to_csv('Red-Green Overlap %s.csv' % tissue)\n",
      "df['Tissue'] = df['Filename'].str.split('/').str[1]\n",
      "df['Virus'] = df['Filename'].str.split(\"/\").str[0]\n",
      "\n",
      "df.to_csv('%s %s Staining Quantification.csv' % (date, tissue.split(\" \")[1]))\n",
      "df.groupby(['Virus', 'Tissue']).std()\n"
     ],
     "language": "python",
     "metadata": {},
     "outputs": [
      {
       "html": [
        "<div style=\"max-height:1000px;max-width:1500px;overflow:auto;\">\n",
        "<table border=\"1\" class=\"dataframe\">\n",
        "  <thead>\n",
        "    <tr style=\"text-align: right;\">\n",
        "      <th></th>\n",
        "      <th></th>\n",
        "      <th>Red-Green Overlap</th>\n",
        "    </tr>\n",
        "    <tr>\n",
        "      <th>Virus</th>\n",
        "      <th>Tissue</th>\n",
        "      <th></th>\n",
        "    </tr>\n",
        "  </thead>\n",
        "  <tbody>\n",
        "    <tr>\n",
        "      <th>Human</th>\n",
        "      <th>Ferret Lung</th>\n",
        "      <td> 53051.067944</td>\n",
        "    </tr>\n",
        "    <tr>\n",
        "      <th>Negative</th>\n",
        "      <th>Ferret Lung</th>\n",
        "      <td>  9029.335352</td>\n",
        "    </tr>\n",
        "    <tr>\n",
        "      <th>Seal</th>\n",
        "      <th>Ferret Lung</th>\n",
        "      <td> 58626.305362</td>\n",
        "    </tr>\n",
        "  </tbody>\n",
        "</table>\n",
        "</div>"
       ],
       "metadata": {},
       "output_type": "pyout",
       "prompt_number": 92,
       "text": [
        "                      Red-Green Overlap\n",
        "Virus    Tissue                        \n",
        "Human    Ferret Lung       53051.067944\n",
        "Negative Ferret Lung        9029.335352\n",
        "Seal     Ferret Lung       58626.305362"
       ]
      }
     ],
     "prompt_number": 92
    },
    {
     "cell_type": "code",
     "collapsed": false,
     "input": [
      "# summary = pd.DataFrame(df.groupby(['Virus', 'Tissue']).mean())\n",
      "# summary\n",
      "# lung_hh3_mean = 0\n",
      "# trachea_hh3_mean = 0\n",
      "\n",
      "# # Get every value normalized to the mean value of the human H3 stained against human [tissue]\n",
      "# for tissuegroup in df.groupby('Tissue'):\n",
      "#     for virusgroup in tissuegroup[1].groupby('Virus'):\n",
      "#         if tissuegroup[0] == \"Lung\" and virusgroup[0] == 'Human':\n",
      "#             lung_hh3_mean = virusgroup[1].mean().values[0]\n",
      "#         if tissuegroup[0] == 'Trachea' and virusgroup[0] == 'Human':\n",
      "#             trachea_hh3_mean = virusgroup[1].mean().values[0]\n",
      "\n",
      "# tissuegrouped = df.groupby('Tissue')\n",
      "# df = pd.DataFrame()\n",
      "# for group in tissuegrouped:\n",
      "#     if group[0] == \"Lung\":\n",
      "#         group[1]['Normalized'] = group[1]['Red-Green Overlap'] / lung_hh3_mean\n",
      "        \n",
      "#     if group[0] == \"Trachea\":\n",
      "#         group[1]['Normalized'] = group[1]['Red-Green Overlap'] / trachea_hh3_mean\n",
      "    \n",
      "#     if group[0] != 'Human Trachea':\n",
      "#         df = df.append(group[1])\n",
      "#         df = df.reindex()\n",
      "    \n",
      "# summary = df.groupby(['Tissue', 'Virus']).mean()\n",
      "# summary['Normalized Stdev'] = df.groupby(['Tissue', 'Virus']).std()['Normalized']\n",
      "# summary\n",
      "# summary['Normalized SEM'] = df.\n",
      "\n",
      "# for virus in summary.index.levels[1]:\n",
      "#     virus"
     ],
     "language": "python",
     "metadata": {},
     "outputs": [],
     "prompt_number": 93
    },
    {
     "cell_type": "code",
     "collapsed": false,
     "input": [
      "\n",
      "summary.index.levels"
     ],
     "language": "python",
     "metadata": {},
     "outputs": [
      {
       "ename": "NameError",
       "evalue": "name 'summary' is not defined",
       "output_type": "pyerr",
       "traceback": [
        "\u001b[0;31m---------------------------------------------------------------------------\u001b[0m\n\u001b[0;31mNameError\u001b[0m                                 Traceback (most recent call last)",
        "\u001b[0;32m<ipython-input-94-c14c1fd87cbc>\u001b[0m in \u001b[0;36m<module>\u001b[0;34m()\u001b[0m\n\u001b[1;32m      1\u001b[0m \u001b[0;34m\u001b[0m\u001b[0m\n\u001b[0;32m----> 2\u001b[0;31m \u001b[0msummary\u001b[0m\u001b[0;34m.\u001b[0m\u001b[0mindex\u001b[0m\u001b[0;34m.\u001b[0m\u001b[0mlevels\u001b[0m\u001b[0;34m\u001b[0m\u001b[0m\n\u001b[0m",
        "\u001b[0;31mNameError\u001b[0m: name 'summary' is not defined"
       ]
      }
     ],
     "prompt_number": 94
    },
    {
     "cell_type": "code",
     "collapsed": false,
     "input": [
      "summary.index.levels"
     ],
     "language": "python",
     "metadata": {},
     "outputs": []
    },
    {
     "cell_type": "code",
     "collapsed": false,
     "input": [
      "import matplotlib.pyplot as plt\n",
      "%matplotlib inline\n",
      "plt.plot(summary)"
     ],
     "language": "python",
     "metadata": {},
     "outputs": []
    },
    {
     "cell_type": "code",
     "collapsed": false,
     "input": [],
     "language": "python",
     "metadata": {},
     "outputs": []
    }
   ],
   "metadata": {}
  }
 ]
}