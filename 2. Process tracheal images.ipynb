{
 "metadata": {
  "name": "",
  "signature": "sha256:07c51c480ab0705198bc53c0f968702fc2dcdf587b99246e7c5f0d4ce9e5f4ed"
 },
 "nbformat": 3,
 "nbformat_minor": 0,
 "worksheets": [
  {
   "cells": [
    {
     "cell_type": "code",
     "collapsed": false,
     "input": [
      "from os import listdir\n",
      "from os.path import isfile, join\n",
      "from rgprocessing import *\n",
      "from IPython.display import HTML\n",
      "from skimage.io import imsave\n",
      "from skimage.filter import threshold_otsu, threshold_adaptive\n",
      "from __future__ import division\n",
      "\n",
      "import os\n",
      "import skimage\n",
      "import pandas as pd\n",
      "import numpy as np\n",
      "import math"
     ],
     "language": "python",
     "metadata": {},
     "outputs": [],
     "prompt_number": 149
    },
    {
     "cell_type": "code",
     "collapsed": false,
     "input": [
      "tissue = 'Human Trachea'\n",
      "date = str(111313)"
     ],
     "language": "python",
     "metadata": {},
     "outputs": [],
     "prompt_number": 150
    },
    {
     "cell_type": "code",
     "collapsed": false,
     "input": [
      "# Identify all subfolders that house the different groups.\n",
      "groups = ['Human/Human Trachea/',\n",
      "          'Human/Ferret Trachea/',\n",
      "          'Negative/Human Trachea/',\n",
      "          'Negative/Ferret Trachea/',\n",
      "          'Seal/Human Trachea/',\n",
      "          'Seal/Ferret Trachea/']\n",
      "\n",
      "images = []\n",
      "for group in groups:\n",
      "#     print os.listdir(group)\n",
      "    for f in os.listdir(group):\n",
      "        if 'tif' in f and date in f:\n",
      "            images.append(group + f)\n",
      "        \n",
      "images"
     ],
     "language": "python",
     "metadata": {},
     "outputs": [
      {
       "metadata": {},
       "output_type": "pyout",
       "prompt_number": 151,
       "text": [
        "['Human/Human Trachea/HH3_trachea_111313_1.tif',\n",
        " 'Human/Human Trachea/HH3_trachea_111313_3.tif',\n",
        " 'Human/Human Trachea/HH3_trachea_111313_4.tif',\n",
        " 'Human/Human Trachea/HH3_trachea_111313_5.tif',\n",
        " 'Human/Human Trachea/HH3_trachea_111313_6.tif',\n",
        " 'Human/Human Trachea/HH3_trachea_111313_7.tif',\n",
        " 'Negative/Human Trachea/Neg_trachea_111313_2.tif',\n",
        " 'Negative/Human Trachea/Neg_trachea_111313_3.tif',\n",
        " 'Negative/Human Trachea/Neg_trachea_111313_4.tif',\n",
        " 'Negative/Human Trachea/Neg_trachea_111313_5.tif',\n",
        " 'Negative/Human Trachea/Neg_trachea_111313_6.tif',\n",
        " 'Negative/Human Trachea/Neg_trachea_111313_7.tif',\n",
        " 'Negative/Human Trachea/Neg_trachea_111313_8.tif',\n",
        " 'Negative/Human Trachea/Neg_trachea_111313_9.tif',\n",
        " 'Seal/Human Trachea/SSH3_40_trachea_111313_1.tif',\n",
        " 'Seal/Human Trachea/SSH3_40_trachea_111313_13.tif',\n",
        " 'Seal/Human Trachea/SSH3_40_trachea_111313_14.tif',\n",
        " 'Seal/Human Trachea/SSH3_40_trachea_111313_15.tif',\n",
        " 'Seal/Human Trachea/SSH3_40_trachea_111313_16.tif',\n",
        " 'Seal/Human Trachea/SSH3_40_trachea_111313_17.tif',\n",
        " 'Seal/Human Trachea/SSH3_40_trachea_111313_2.tif',\n",
        " 'Seal/Human Trachea/SSH3_40_trachea_111313_3.tif',\n",
        " 'Seal/Human Trachea/SSH3_40_trachea_111313_4.tif',\n",
        " 'Seal/Human Trachea/SSH3_40_trachea_111313_5.tif',\n",
        " 'Seal/Human Trachea/SSH3_40_trachea_111313_6.tif',\n",
        " 'Seal/Human Trachea/SSH3_40_trachea_111313_7.tif',\n",
        " 'Seal/Human Trachea/SSH3_40_trachea_111313_8.tif']"
       ]
      }
     ],
     "prompt_number": 151
    },
    {
     "cell_type": "code",
     "collapsed": false,
     "input": [
      "# get out the thresholds from the log files:\n",
      "red_log = open('parameter average threshold red channel %s.txt' % (tissue+' '+date), 'rU')\n",
      "red_lines = red_log.readlines()\n",
      "red_thresh = float(red_lines[0])\n",
      "print red_thresh\n",
      "red_log.close()\n",
      "\n",
      "red_log_pre_otsu = open('parameter average threshold red channel %s pre-otsu.txt' % (tissue+' '+date), 'rU')\n",
      "red_lines_pre_otsu = red_log_pre_otsu.readlines()\n",
      "red_thresh_pre_otsu = float(red_lines_pre_otsu[0])\n",
      "print red_thresh_pre_otsu\n",
      "red_log_pre_otsu.close()\n",
      "\n",
      "\n",
      "green_log = open('parameter average threshold green channel %s.txt' % (tissue+' '+date), 'rU')\n",
      "green_lines = green_log.readlines()\n",
      "green_thresh = float(green_lines[0])\n",
      "print green_thresh\n",
      "green_log.close()\n",
      "\n",
      "green_log_pre_otsu = open('parameter average threshold green channel %s pre-otsu.txt' % (tissue+' '+date), 'rU')\n",
      "green_lines_pre_otsu = green_log_pre_otsu.readlines()\n",
      "green_thresh_pre_otsu = float(green_lines_pre_otsu[0])\n",
      "print green_thresh_pre_otsu\n",
      "green_log_pre_otsu.close()"
     ],
     "language": "python",
     "metadata": {},
     "outputs": [
      {
       "output_type": "stream",
       "stream": "stdout",
       "text": [
        "0.396484\n",
        "30.0\n",
        "0.302734\n",
        "31.0\n"
       ]
      }
     ],
     "prompt_number": 152
    },
    {
     "cell_type": "code",
     "collapsed": false,
     "input": [
      "datas = []\n",
      "\n",
      "# Green and red channel disk size\n",
      "grndisk = 10\n",
      "reddisk = 20\n",
      "\n",
      "for f in images:\n",
      "    print f\n",
      "    img = loadshow_img(f)\n",
      "    height, width = np.shape(img[:,:,0])\n",
      "    \n",
      "    red_img = showchannel(img, 0)\n",
      "    \n",
      "    red_thresholded, _ = threshold_image(red_img, red_thresh_pre_otsu)\n",
      "    filename = '%s %s' % (f.split('.')[0], 'Red Thresholded.png')\n",
      "    imsave(filename, red_thresholded)\n",
      "    \n",
      "    red_entropy = entropy_image(red_thresholded, reddisk)\n",
      "    filename = '%s %s' % (f.split('.')[0], 'Red Entropy.png')\n",
      "    imsave(filename, red_entropy)\n",
      "    \n",
      "    red_entropy_thresholded, _ = threshold_image(red_entropy)\n",
      "    filename = '%s %s' % (f.split('.')[0], 'Red Entropy Thresholded.png')\n",
      "    imsave(filename, red_entropy_thresholded)\n",
      "    \n",
      "    # Key insight here: We identify tissue by ensuring that the blobs are > 4 circles large.\n",
      "    tracheal_cells = large_contiguous_regions(red_entropy_thresholded, ((reddisk/height)**2)*4*math.pi)\n",
      "    filename = '%s %s' % (f.split('.')[0], 'Tracheal Cells.png')\n",
      "    imsave(filename, tracheal_cells)\n",
      "    \n",
      "    ###\n",
      "    \n",
      "    green_img = showchannel(img, 1)\n",
      "    \n",
      "    green_thresholded, _ = threshold_image(green_img, green_thresh_pre_otsu)\n",
      "    filename = '%s %s' % (f.split('.')[0], 'Green Thresholded.png')\n",
      "    imsave(filename, green_thresholded)\n",
      "    \n",
      "    green_entropy = entropy_image(green_thresholded, grndisk)\n",
      "    filename = '%s %s' % (f.split('.')[0], 'Green Entropy.png')\n",
      "    imsave(filename, green_entropy)\n",
      "    \n",
      "    green_entropy_thresholded, _ = threshold_image(green_entropy)\n",
      "    filename = '%s %s' % (f.split('.')[0], 'Green Entropy Thresholded.png')\n",
      "    imsave(filename, green_entropy_thresholded)\n",
      "    \n",
      "    # Key insight here: We identify staining by ensuring that the green blobs are > 10 circles large.\n",
      "    tracheal_ha = large_contiguous_regions(green_entropy_thresholded, ((grndisk/height)**2)*10*math.pi)\n",
      "    filename = '%s %s' % (f.split('.')[0], 'Tracheal HA.png')\n",
      "    imsave(filename, tracheal_ha)\n",
      "\n",
      "\n",
      "    overlap = find_overlap(tracheal_cells, tracheal_ha) * 1.0\n",
      "        \n",
      "    filename = '%s %s' % (f.split('.')[0], 'Overlap.png')\n",
      "    imsave(filename, overlap)\n",
      "    \n",
      "    data = {}\n",
      "    data['Filename'] = f\n",
      "    data['Tissue'] = tissue\n",
      "    data['Sample or Control'] = f.split('_')[0]\n",
      "    data['Red-Green Overlap'] = quantify_overlap(overlap)\n",
      "    datas.append(data)"
     ],
     "language": "python",
     "metadata": {},
     "outputs": [
      {
       "output_type": "stream",
       "stream": "stderr",
       "text": [
        "/Users/ericmjl/anaconda/envs/py27/lib/python2.7/site-packages/scikit_image-0.10.1-py2.7-macosx-10.5-x86_64.egg/skimage/measure/_label.py:4: skimage_deprecation: Call to deprecated function ``label``. Use ``skimage.measure.label`` instead.\n",
        "  return _label(input, neighbors, background, return_num)\n",
        "/Users/ericmjl/anaconda/envs/py27/lib/python2.7/site-packages/scikit_image-0.10.1-py2.7-macosx-10.5-x86_64.egg/skimage/measure/_label.py:4: skimage_deprecation: Call to deprecated function ``label``. Use ``skimage.measure.label`` instead.\n",
        "  return _label(input, neighbors, background, return_num)\n"
       ]
      },
      {
       "output_type": "stream",
       "stream": "stdout",
       "text": [
        "Human/Human Trachea/HH3_trachea_111313_1.tif\n",
        "Human/Human Trachea/HH3_trachea_111313_3.tif"
       ]
      },
      {
       "output_type": "stream",
       "stream": "stderr",
       "text": [
        "/Users/ericmjl/anaconda/envs/py27/lib/python2.7/site-packages/scikit_image-0.10.1-py2.7-macosx-10.5-x86_64.egg/skimage/measure/_label.py:4: skimage_deprecation: Call to deprecated function ``label``. Use ``skimage.measure.label`` instead.\n",
        "  return _label(input, neighbors, background, return_num)\n",
        "/Users/ericmjl/anaconda/envs/py27/lib/python2.7/site-packages/scikit_image-0.10.1-py2.7-macosx-10.5-x86_64.egg/skimage/measure/_label.py:4: skimage_deprecation: Call to deprecated function ``label``. Use ``skimage.measure.label`` instead.\n",
        "  return _label(input, neighbors, background, return_num)\n"
       ]
      },
      {
       "output_type": "stream",
       "stream": "stdout",
       "text": [
        "\n",
        "Human/Human Trachea/HH3_trachea_111313_4.tif"
       ]
      },
      {
       "output_type": "stream",
       "stream": "stderr",
       "text": [
        "/Users/ericmjl/anaconda/envs/py27/lib/python2.7/site-packages/scikit_image-0.10.1-py2.7-macosx-10.5-x86_64.egg/skimage/measure/_label.py:4: skimage_deprecation: Call to deprecated function ``label``. Use ``skimage.measure.label`` instead.\n",
        "  return _label(input, neighbors, background, return_num)\n",
        "/Users/ericmjl/anaconda/envs/py27/lib/python2.7/site-packages/scikit_image-0.10.1-py2.7-macosx-10.5-x86_64.egg/skimage/measure/_label.py:4: skimage_deprecation: Call to deprecated function ``label``. Use ``skimage.measure.label`` instead.\n",
        "  return _label(input, neighbors, background, return_num)\n"
       ]
      },
      {
       "output_type": "stream",
       "stream": "stdout",
       "text": [
        "\n",
        "Human/Human Trachea/HH3_trachea_111313_5.tif"
       ]
      },
      {
       "output_type": "stream",
       "stream": "stderr",
       "text": [
        "/Users/ericmjl/anaconda/envs/py27/lib/python2.7/site-packages/scikit_image-0.10.1-py2.7-macosx-10.5-x86_64.egg/skimage/measure/_label.py:4: skimage_deprecation: Call to deprecated function ``label``. Use ``skimage.measure.label`` instead.\n",
        "  return _label(input, neighbors, background, return_num)\n",
        "/Users/ericmjl/anaconda/envs/py27/lib/python2.7/site-packages/scikit_image-0.10.1-py2.7-macosx-10.5-x86_64.egg/skimage/measure/_label.py:4: skimage_deprecation: Call to deprecated function ``label``. Use ``skimage.measure.label`` instead.\n",
        "  return _label(input, neighbors, background, return_num)\n"
       ]
      },
      {
       "output_type": "stream",
       "stream": "stdout",
       "text": [
        "\n",
        "Human/Human Trachea/HH3_trachea_111313_6.tif"
       ]
      },
      {
       "output_type": "stream",
       "stream": "stderr",
       "text": [
        "/Users/ericmjl/anaconda/envs/py27/lib/python2.7/site-packages/scikit_image-0.10.1-py2.7-macosx-10.5-x86_64.egg/skimage/measure/_label.py:4: skimage_deprecation: Call to deprecated function ``label``. Use ``skimage.measure.label`` instead.\n",
        "  return _label(input, neighbors, background, return_num)\n",
        "/Users/ericmjl/anaconda/envs/py27/lib/python2.7/site-packages/scikit_image-0.10.1-py2.7-macosx-10.5-x86_64.egg/skimage/measure/_label.py:4: skimage_deprecation: Call to deprecated function ``label``. Use ``skimage.measure.label`` instead.\n",
        "  return _label(input, neighbors, background, return_num)\n"
       ]
      },
      {
       "output_type": "stream",
       "stream": "stdout",
       "text": [
        "\n",
        "Human/Human Trachea/HH3_trachea_111313_7.tif"
       ]
      },
      {
       "output_type": "stream",
       "stream": "stderr",
       "text": [
        "/Users/ericmjl/anaconda/envs/py27/lib/python2.7/site-packages/scikit_image-0.10.1-py2.7-macosx-10.5-x86_64.egg/skimage/measure/_label.py:4: skimage_deprecation: Call to deprecated function ``label``. Use ``skimage.measure.label`` instead.\n",
        "  return _label(input, neighbors, background, return_num)\n",
        "/Users/ericmjl/anaconda/envs/py27/lib/python2.7/site-packages/scikit_image-0.10.1-py2.7-macosx-10.5-x86_64.egg/skimage/measure/_label.py:4: skimage_deprecation: Call to deprecated function ``label``. Use ``skimage.measure.label`` instead.\n",
        "  return _label(input, neighbors, background, return_num)\n"
       ]
      },
      {
       "output_type": "stream",
       "stream": "stdout",
       "text": [
        "\n",
        "Negative/Human Trachea/Neg_trachea_111313_2.tif"
       ]
      },
      {
       "output_type": "stream",
       "stream": "stderr",
       "text": [
        "/Users/ericmjl/anaconda/envs/py27/lib/python2.7/site-packages/scikit_image-0.10.1-py2.7-macosx-10.5-x86_64.egg/skimage/measure/_label.py:4: skimage_deprecation: Call to deprecated function ``label``. Use ``skimage.measure.label`` instead.\n",
        "  return _label(input, neighbors, background, return_num)\n",
        "/Users/ericmjl/anaconda/envs/py27/lib/python2.7/site-packages/scikit_image-0.10.1-py2.7-macosx-10.5-x86_64.egg/skimage/measure/_label.py:4: skimage_deprecation: Call to deprecated function ``label``. Use ``skimage.measure.label`` instead.\n",
        "  return _label(input, neighbors, background, return_num)\n"
       ]
      },
      {
       "output_type": "stream",
       "stream": "stdout",
       "text": [
        "\n",
        "Negative/Human Trachea/Neg_trachea_111313_3.tif"
       ]
      },
      {
       "output_type": "stream",
       "stream": "stderr",
       "text": [
        "/Users/ericmjl/anaconda/envs/py27/lib/python2.7/site-packages/scikit_image-0.10.1-py2.7-macosx-10.5-x86_64.egg/skimage/measure/_label.py:4: skimage_deprecation: Call to deprecated function ``label``. Use ``skimage.measure.label`` instead.\n",
        "  return _label(input, neighbors, background, return_num)\n",
        "/Users/ericmjl/anaconda/envs/py27/lib/python2.7/site-packages/scikit_image-0.10.1-py2.7-macosx-10.5-x86_64.egg/skimage/measure/_label.py:4: skimage_deprecation: Call to deprecated function ``label``. Use ``skimage.measure.label`` instead.\n",
        "  return _label(input, neighbors, background, return_num)\n"
       ]
      },
      {
       "output_type": "stream",
       "stream": "stdout",
       "text": [
        "\n",
        "Negative/Human Trachea/Neg_trachea_111313_4.tif"
       ]
      },
      {
       "output_type": "stream",
       "stream": "stderr",
       "text": [
        "/Users/ericmjl/anaconda/envs/py27/lib/python2.7/site-packages/scikit_image-0.10.1-py2.7-macosx-10.5-x86_64.egg/skimage/measure/_label.py:4: skimage_deprecation: Call to deprecated function ``label``. Use ``skimage.measure.label`` instead.\n",
        "  return _label(input, neighbors, background, return_num)\n",
        "/Users/ericmjl/anaconda/envs/py27/lib/python2.7/site-packages/scikit_image-0.10.1-py2.7-macosx-10.5-x86_64.egg/skimage/measure/_label.py:4: skimage_deprecation: Call to deprecated function ``label``. Use ``skimage.measure.label`` instead.\n",
        "  return _label(input, neighbors, background, return_num)\n"
       ]
      },
      {
       "output_type": "stream",
       "stream": "stdout",
       "text": [
        "\n",
        "Negative/Human Trachea/Neg_trachea_111313_5.tif"
       ]
      },
      {
       "output_type": "stream",
       "stream": "stderr",
       "text": [
        "/Users/ericmjl/anaconda/envs/py27/lib/python2.7/site-packages/scikit_image-0.10.1-py2.7-macosx-10.5-x86_64.egg/skimage/measure/_label.py:4: skimage_deprecation: Call to deprecated function ``label``. Use ``skimage.measure.label`` instead.\n",
        "  return _label(input, neighbors, background, return_num)\n",
        "/Users/ericmjl/anaconda/envs/py27/lib/python2.7/site-packages/scikit_image-0.10.1-py2.7-macosx-10.5-x86_64.egg/skimage/measure/_label.py:4: skimage_deprecation: Call to deprecated function ``label``. Use ``skimage.measure.label`` instead.\n",
        "  return _label(input, neighbors, background, return_num)\n"
       ]
      },
      {
       "output_type": "stream",
       "stream": "stdout",
       "text": [
        "\n",
        "Negative/Human Trachea/Neg_trachea_111313_6.tif"
       ]
      },
      {
       "output_type": "stream",
       "stream": "stderr",
       "text": [
        "/Users/ericmjl/anaconda/envs/py27/lib/python2.7/site-packages/scikit_image-0.10.1-py2.7-macosx-10.5-x86_64.egg/skimage/measure/_label.py:4: skimage_deprecation: Call to deprecated function ``label``. Use ``skimage.measure.label`` instead.\n",
        "  return _label(input, neighbors, background, return_num)\n",
        "/Users/ericmjl/anaconda/envs/py27/lib/python2.7/site-packages/scikit_image-0.10.1-py2.7-macosx-10.5-x86_64.egg/skimage/measure/_label.py:4: skimage_deprecation: Call to deprecated function ``label``. Use ``skimage.measure.label`` instead.\n",
        "  return _label(input, neighbors, background, return_num)\n"
       ]
      },
      {
       "output_type": "stream",
       "stream": "stdout",
       "text": [
        "\n",
        "Negative/Human Trachea/Neg_trachea_111313_7.tif"
       ]
      },
      {
       "output_type": "stream",
       "stream": "stderr",
       "text": [
        "/Users/ericmjl/anaconda/envs/py27/lib/python2.7/site-packages/scikit_image-0.10.1-py2.7-macosx-10.5-x86_64.egg/skimage/measure/_label.py:4: skimage_deprecation: Call to deprecated function ``label``. Use ``skimage.measure.label`` instead.\n",
        "  return _label(input, neighbors, background, return_num)\n",
        "/Users/ericmjl/anaconda/envs/py27/lib/python2.7/site-packages/scikit_image-0.10.1-py2.7-macosx-10.5-x86_64.egg/skimage/measure/_label.py:4: skimage_deprecation: Call to deprecated function ``label``. Use ``skimage.measure.label`` instead.\n",
        "  return _label(input, neighbors, background, return_num)\n"
       ]
      },
      {
       "output_type": "stream",
       "stream": "stdout",
       "text": [
        "\n",
        "Negative/Human Trachea/Neg_trachea_111313_8.tif"
       ]
      },
      {
       "output_type": "stream",
       "stream": "stderr",
       "text": [
        "/Users/ericmjl/anaconda/envs/py27/lib/python2.7/site-packages/scikit_image-0.10.1-py2.7-macosx-10.5-x86_64.egg/skimage/measure/_label.py:4: skimage_deprecation: Call to deprecated function ``label``. Use ``skimage.measure.label`` instead.\n",
        "  return _label(input, neighbors, background, return_num)\n",
        "/Users/ericmjl/anaconda/envs/py27/lib/python2.7/site-packages/scikit_image-0.10.1-py2.7-macosx-10.5-x86_64.egg/skimage/measure/_label.py:4: skimage_deprecation: Call to deprecated function ``label``. Use ``skimage.measure.label`` instead.\n",
        "  return _label(input, neighbors, background, return_num)\n"
       ]
      },
      {
       "output_type": "stream",
       "stream": "stdout",
       "text": [
        "\n",
        "Negative/Human Trachea/Neg_trachea_111313_9.tif"
       ]
      },
      {
       "output_type": "stream",
       "stream": "stderr",
       "text": [
        "/Users/ericmjl/anaconda/envs/py27/lib/python2.7/site-packages/scikit_image-0.10.1-py2.7-macosx-10.5-x86_64.egg/skimage/measure/_label.py:4: skimage_deprecation: Call to deprecated function ``label``. Use ``skimage.measure.label`` instead.\n",
        "  return _label(input, neighbors, background, return_num)\n",
        "/Users/ericmjl/anaconda/envs/py27/lib/python2.7/site-packages/scikit_image-0.10.1-py2.7-macosx-10.5-x86_64.egg/skimage/measure/_label.py:4: skimage_deprecation: Call to deprecated function ``label``. Use ``skimage.measure.label`` instead.\n",
        "  return _label(input, neighbors, background, return_num)\n"
       ]
      },
      {
       "output_type": "stream",
       "stream": "stdout",
       "text": [
        "\n",
        "Seal/Human Trachea/SSH3_40_trachea_111313_1.tif"
       ]
      },
      {
       "output_type": "stream",
       "stream": "stderr",
       "text": [
        "/Users/ericmjl/anaconda/envs/py27/lib/python2.7/site-packages/scikit_image-0.10.1-py2.7-macosx-10.5-x86_64.egg/skimage/measure/_label.py:4: skimage_deprecation: Call to deprecated function ``label``. Use ``skimage.measure.label`` instead.\n",
        "  return _label(input, neighbors, background, return_num)\n",
        "/Users/ericmjl/anaconda/envs/py27/lib/python2.7/site-packages/scikit_image-0.10.1-py2.7-macosx-10.5-x86_64.egg/skimage/measure/_label.py:4: skimage_deprecation: Call to deprecated function ``label``. Use ``skimage.measure.label`` instead.\n",
        "  return _label(input, neighbors, background, return_num)\n"
       ]
      },
      {
       "output_type": "stream",
       "stream": "stdout",
       "text": [
        "\n",
        "Seal/Human Trachea/SSH3_40_trachea_111313_13.tif"
       ]
      },
      {
       "output_type": "stream",
       "stream": "stderr",
       "text": [
        "/Users/ericmjl/anaconda/envs/py27/lib/python2.7/site-packages/scikit_image-0.10.1-py2.7-macosx-10.5-x86_64.egg/skimage/measure/_label.py:4: skimage_deprecation: Call to deprecated function ``label``. Use ``skimage.measure.label`` instead.\n",
        "  return _label(input, neighbors, background, return_num)\n",
        "/Users/ericmjl/anaconda/envs/py27/lib/python2.7/site-packages/scikit_image-0.10.1-py2.7-macosx-10.5-x86_64.egg/skimage/measure/_label.py:4: skimage_deprecation: Call to deprecated function ``label``. Use ``skimage.measure.label`` instead.\n",
        "  return _label(input, neighbors, background, return_num)\n"
       ]
      },
      {
       "output_type": "stream",
       "stream": "stdout",
       "text": [
        "\n",
        "Seal/Human Trachea/SSH3_40_trachea_111313_14.tif"
       ]
      },
      {
       "output_type": "stream",
       "stream": "stderr",
       "text": [
        "/Users/ericmjl/anaconda/envs/py27/lib/python2.7/site-packages/scikit_image-0.10.1-py2.7-macosx-10.5-x86_64.egg/skimage/measure/_label.py:4: skimage_deprecation: Call to deprecated function ``label``. Use ``skimage.measure.label`` instead.\n",
        "  return _label(input, neighbors, background, return_num)\n",
        "/Users/ericmjl/anaconda/envs/py27/lib/python2.7/site-packages/scikit_image-0.10.1-py2.7-macosx-10.5-x86_64.egg/skimage/measure/_label.py:4: skimage_deprecation: Call to deprecated function ``label``. Use ``skimage.measure.label`` instead.\n",
        "  return _label(input, neighbors, background, return_num)\n"
       ]
      },
      {
       "output_type": "stream",
       "stream": "stdout",
       "text": [
        "\n",
        "Seal/Human Trachea/SSH3_40_trachea_111313_15.tif"
       ]
      },
      {
       "output_type": "stream",
       "stream": "stderr",
       "text": [
        "/Users/ericmjl/anaconda/envs/py27/lib/python2.7/site-packages/scikit_image-0.10.1-py2.7-macosx-10.5-x86_64.egg/skimage/measure/_label.py:4: skimage_deprecation: Call to deprecated function ``label``. Use ``skimage.measure.label`` instead.\n",
        "  return _label(input, neighbors, background, return_num)\n",
        "/Users/ericmjl/anaconda/envs/py27/lib/python2.7/site-packages/scikit_image-0.10.1-py2.7-macosx-10.5-x86_64.egg/skimage/measure/_label.py:4: skimage_deprecation: Call to deprecated function ``label``. Use ``skimage.measure.label`` instead.\n",
        "  return _label(input, neighbors, background, return_num)\n"
       ]
      },
      {
       "output_type": "stream",
       "stream": "stdout",
       "text": [
        "\n",
        "Seal/Human Trachea/SSH3_40_trachea_111313_16.tif"
       ]
      },
      {
       "output_type": "stream",
       "stream": "stderr",
       "text": [
        "/Users/ericmjl/anaconda/envs/py27/lib/python2.7/site-packages/scikit_image-0.10.1-py2.7-macosx-10.5-x86_64.egg/skimage/measure/_label.py:4: skimage_deprecation: Call to deprecated function ``label``. Use ``skimage.measure.label`` instead.\n",
        "  return _label(input, neighbors, background, return_num)\n",
        "/Users/ericmjl/anaconda/envs/py27/lib/python2.7/site-packages/scikit_image-0.10.1-py2.7-macosx-10.5-x86_64.egg/skimage/measure/_label.py:4: skimage_deprecation: Call to deprecated function ``label``. Use ``skimage.measure.label`` instead.\n",
        "  return _label(input, neighbors, background, return_num)\n"
       ]
      },
      {
       "output_type": "stream",
       "stream": "stdout",
       "text": [
        "\n",
        "Seal/Human Trachea/SSH3_40_trachea_111313_17.tif"
       ]
      },
      {
       "output_type": "stream",
       "stream": "stderr",
       "text": [
        "/Users/ericmjl/anaconda/envs/py27/lib/python2.7/site-packages/scikit_image-0.10.1-py2.7-macosx-10.5-x86_64.egg/skimage/measure/_label.py:4: skimage_deprecation: Call to deprecated function ``label``. Use ``skimage.measure.label`` instead.\n",
        "  return _label(input, neighbors, background, return_num)\n",
        "/Users/ericmjl/anaconda/envs/py27/lib/python2.7/site-packages/scikit_image-0.10.1-py2.7-macosx-10.5-x86_64.egg/skimage/measure/_label.py:4: skimage_deprecation: Call to deprecated function ``label``. Use ``skimage.measure.label`` instead.\n",
        "  return _label(input, neighbors, background, return_num)\n"
       ]
      },
      {
       "output_type": "stream",
       "stream": "stdout",
       "text": [
        "\n",
        "Seal/Human Trachea/SSH3_40_trachea_111313_2.tif"
       ]
      },
      {
       "output_type": "stream",
       "stream": "stderr",
       "text": [
        "/Users/ericmjl/anaconda/envs/py27/lib/python2.7/site-packages/scikit_image-0.10.1-py2.7-macosx-10.5-x86_64.egg/skimage/measure/_label.py:4: skimage_deprecation: Call to deprecated function ``label``. Use ``skimage.measure.label`` instead.\n",
        "  return _label(input, neighbors, background, return_num)\n",
        "/Users/ericmjl/anaconda/envs/py27/lib/python2.7/site-packages/scikit_image-0.10.1-py2.7-macosx-10.5-x86_64.egg/skimage/measure/_label.py:4: skimage_deprecation: Call to deprecated function ``label``. Use ``skimage.measure.label`` instead.\n",
        "  return _label(input, neighbors, background, return_num)\n"
       ]
      },
      {
       "output_type": "stream",
       "stream": "stdout",
       "text": [
        "\n",
        "Seal/Human Trachea/SSH3_40_trachea_111313_3.tif"
       ]
      },
      {
       "output_type": "stream",
       "stream": "stderr",
       "text": [
        "/Users/ericmjl/anaconda/envs/py27/lib/python2.7/site-packages/scikit_image-0.10.1-py2.7-macosx-10.5-x86_64.egg/skimage/measure/_label.py:4: skimage_deprecation: Call to deprecated function ``label``. Use ``skimage.measure.label`` instead.\n",
        "  return _label(input, neighbors, background, return_num)\n",
        "/Users/ericmjl/anaconda/envs/py27/lib/python2.7/site-packages/scikit_image-0.10.1-py2.7-macosx-10.5-x86_64.egg/skimage/measure/_label.py:4: skimage_deprecation: Call to deprecated function ``label``. Use ``skimage.measure.label`` instead.\n",
        "  return _label(input, neighbors, background, return_num)\n"
       ]
      },
      {
       "output_type": "stream",
       "stream": "stdout",
       "text": [
        "\n",
        "Seal/Human Trachea/SSH3_40_trachea_111313_4.tif"
       ]
      },
      {
       "output_type": "stream",
       "stream": "stderr",
       "text": [
        "/Users/ericmjl/anaconda/envs/py27/lib/python2.7/site-packages/scikit_image-0.10.1-py2.7-macosx-10.5-x86_64.egg/skimage/measure/_label.py:4: skimage_deprecation: Call to deprecated function ``label``. Use ``skimage.measure.label`` instead.\n",
        "  return _label(input, neighbors, background, return_num)\n",
        "/Users/ericmjl/anaconda/envs/py27/lib/python2.7/site-packages/scikit_image-0.10.1-py2.7-macosx-10.5-x86_64.egg/skimage/measure/_label.py:4: skimage_deprecation: Call to deprecated function ``label``. Use ``skimage.measure.label`` instead.\n",
        "  return _label(input, neighbors, background, return_num)\n"
       ]
      },
      {
       "output_type": "stream",
       "stream": "stdout",
       "text": [
        "\n",
        "Seal/Human Trachea/SSH3_40_trachea_111313_5.tif"
       ]
      },
      {
       "output_type": "stream",
       "stream": "stderr",
       "text": [
        "/Users/ericmjl/anaconda/envs/py27/lib/python2.7/site-packages/scikit_image-0.10.1-py2.7-macosx-10.5-x86_64.egg/skimage/measure/_label.py:4: skimage_deprecation: Call to deprecated function ``label``. Use ``skimage.measure.label`` instead.\n",
        "  return _label(input, neighbors, background, return_num)\n",
        "/Users/ericmjl/anaconda/envs/py27/lib/python2.7/site-packages/scikit_image-0.10.1-py2.7-macosx-10.5-x86_64.egg/skimage/measure/_label.py:4: skimage_deprecation: Call to deprecated function ``label``. Use ``skimage.measure.label`` instead.\n",
        "  return _label(input, neighbors, background, return_num)\n"
       ]
      },
      {
       "output_type": "stream",
       "stream": "stdout",
       "text": [
        "\n",
        "Seal/Human Trachea/SSH3_40_trachea_111313_6.tif"
       ]
      },
      {
       "output_type": "stream",
       "stream": "stderr",
       "text": [
        "/Users/ericmjl/anaconda/envs/py27/lib/python2.7/site-packages/scikit_image-0.10.1-py2.7-macosx-10.5-x86_64.egg/skimage/measure/_label.py:4: skimage_deprecation: Call to deprecated function ``label``. Use ``skimage.measure.label`` instead.\n",
        "  return _label(input, neighbors, background, return_num)\n",
        "/Users/ericmjl/anaconda/envs/py27/lib/python2.7/site-packages/scikit_image-0.10.1-py2.7-macosx-10.5-x86_64.egg/skimage/measure/_label.py:4: skimage_deprecation: Call to deprecated function ``label``. Use ``skimage.measure.label`` instead.\n",
        "  return _label(input, neighbors, background, return_num)\n"
       ]
      },
      {
       "output_type": "stream",
       "stream": "stdout",
       "text": [
        "\n",
        "Seal/Human Trachea/SSH3_40_trachea_111313_7.tif"
       ]
      },
      {
       "output_type": "stream",
       "stream": "stderr",
       "text": [
        "/Users/ericmjl/anaconda/envs/py27/lib/python2.7/site-packages/scikit_image-0.10.1-py2.7-macosx-10.5-x86_64.egg/skimage/measure/_label.py:4: skimage_deprecation: Call to deprecated function ``label``. Use ``skimage.measure.label`` instead.\n",
        "  return _label(input, neighbors, background, return_num)\n",
        "/Users/ericmjl/anaconda/envs/py27/lib/python2.7/site-packages/scikit_image-0.10.1-py2.7-macosx-10.5-x86_64.egg/skimage/measure/_label.py:4: skimage_deprecation: Call to deprecated function ``label``. Use ``skimage.measure.label`` instead.\n",
        "  return _label(input, neighbors, background, return_num)\n"
       ]
      },
      {
       "output_type": "stream",
       "stream": "stdout",
       "text": [
        "\n",
        "Seal/Human Trachea/SSH3_40_trachea_111313_8.tif"
       ]
      },
      {
       "output_type": "stream",
       "stream": "stderr",
       "text": [
        "/Users/ericmjl/anaconda/envs/py27/lib/python2.7/site-packages/scikit_image-0.10.1-py2.7-macosx-10.5-x86_64.egg/skimage/measure/_label.py:4: skimage_deprecation: Call to deprecated function ``label``. Use ``skimage.measure.label`` instead.\n",
        "  return _label(input, neighbors, background, return_num)\n",
        "/Users/ericmjl/anaconda/envs/py27/lib/python2.7/site-packages/scikit_image-0.10.1-py2.7-macosx-10.5-x86_64.egg/skimage/measure/_label.py:4: skimage_deprecation: Call to deprecated function ``label``. Use ``skimage.measure.label`` instead.\n",
        "  return _label(input, neighbors, background, return_num)\n"
       ]
      },
      {
       "output_type": "stream",
       "stream": "stdout",
       "text": [
        "\n"
       ]
      },
      {
       "metadata": {},
       "output_type": "display_data",
       "png": "[encoded data removed]",
       "text": [
        "<matplotlib.figure.Figure at 0x1c4942790>"
       ]
      }
     ],
     "prompt_number": 153
    },
    {
     "cell_type": "code",
     "collapsed": false,
     "input": [
      "df = pd.DataFrame(datas)\n",
      "# display(HTML(df.to_html()))\n",
      "df.to_csv('Red-Green Overlap %s.csv' % tissue)\n",
      "df['Tissue'] = df['Filename'].str.split('/').str[1]\n",
      "df['Virus'] = df['Filename'].str.split(\"/\").str[0]\n",
      "\n",
      "df.to_csv('%s %s Staining Quantification.csv' % (date, tissue.split(\" \")[1]))\n",
      "df.groupby(['Virus', 'Tissue']).mean()"
     ],
     "language": "python",
     "metadata": {},
     "outputs": [
      {
       "html": [
        "<div style=\"max-height:1000px;max-width:1500px;overflow:auto;\">\n",
        "<table border=\"1\" class=\"dataframe\">\n",
        "  <thead>\n",
        "    <tr style=\"text-align: right;\">\n",
        "      <th></th>\n",
        "      <th></th>\n",
        "      <th>Red-Green Overlap</th>\n",
        "    </tr>\n",
        "    <tr>\n",
        "      <th>Virus</th>\n",
        "      <th>Tissue</th>\n",
        "      <th></th>\n",
        "    </tr>\n",
        "  </thead>\n",
        "  <tbody>\n",
        "    <tr>\n",
        "      <th>Human</th>\n",
        "      <th>Human Trachea</th>\n",
        "      <td> 43630.833333</td>\n",
        "    </tr>\n",
        "    <tr>\n",
        "      <th>Negative</th>\n",
        "      <th>Human Trachea</th>\n",
        "      <td>     0.000000</td>\n",
        "    </tr>\n",
        "    <tr>\n",
        "      <th>Seal</th>\n",
        "      <th>Human Trachea</th>\n",
        "      <td>   176.307692</td>\n",
        "    </tr>\n",
        "  </tbody>\n",
        "</table>\n",
        "</div>"
       ],
       "metadata": {},
       "output_type": "pyout",
       "prompt_number": 160,
       "text": [
        "                        Red-Green Overlap\n",
        "Virus    Tissue                          \n",
        "Human    Human Trachea       43630.833333\n",
        "Negative Human Trachea           0.000000\n",
        "Seal     Human Trachea         176.307692"
       ]
      }
     ],
     "prompt_number": 160
    },
    {
     "cell_type": "code",
     "collapsed": false,
     "input": [
      "# summary = pd.DataFrame(df.groupby(['Virus', 'Tissue']).mean())\n",
      "# summary\n",
      "# lung_hh3_mean = 0\n",
      "# trachea_hh3_mean = 0\n",
      "\n",
      "# # Get every value normalized to the mean value of the human H3 stained against human [tissue]\n",
      "# for tissuegroup in df.groupby('Tissue'):\n",
      "#     for virusgroup in tissuegroup[1].groupby('Virus'):\n",
      "#         if tissuegroup[0] == \"Lung\" and virusgroup[0] == 'Human':\n",
      "#             lung_hh3_mean = virusgroup[1].mean().values[0]\n",
      "#         if tissuegroup[0] == 'Trachea' and virusgroup[0] == 'Human':\n",
      "#             trachea_hh3_mean = virusgroup[1].mean().values[0]\n",
      "\n",
      "# tissuegrouped = df.groupby('Tissue')\n",
      "# df = pd.DataFrame()\n",
      "# for group in tissuegrouped:\n",
      "#     if group[0] == \"Lung\":\n",
      "#         group[1]['Normalized'] = group[1]['Red-Green Overlap'] / lung_hh3_mean\n",
      "        \n",
      "#     if group[0] == \"Trachea\":\n",
      "#         group[1]['Normalized'] = group[1]['Red-Green Overlap'] / trachea_hh3_mean\n",
      "    \n",
      "#     if group[0] != 'Human Trachea':\n",
      "#         df = df.append(group[1])\n",
      "#         df = df.reindex()\n",
      "    \n",
      "# summary = df.groupby(['Tissue', 'Virus']).mean()\n",
      "# summary['Normalized Stdev'] = df.groupby(['Tissue', 'Virus']).std()['Normalized']\n",
      "# summary\n",
      "# summary['Normalized SEM'] = df.\n",
      "\n",
      "# for virus in summary.index.levels[1]:\n",
      "#     virus"
     ],
     "language": "python",
     "metadata": {},
     "outputs": [],
     "prompt_number": 155
    },
    {
     "cell_type": "code",
     "collapsed": false,
     "input": [
      "(date, tissue.split(\" \")[1])"
     ],
     "language": "python",
     "metadata": {},
     "outputs": [
      {
       "metadata": {},
       "output_type": "pyout",
       "prompt_number": 156,
       "text": [
        "('111313', 'Trachea')"
       ]
      }
     ],
     "prompt_number": 156
    },
    {
     "cell_type": "code",
     "collapsed": false,
     "input": [
      "summary.index.levels"
     ],
     "language": "python",
     "metadata": {},
     "outputs": [
      {
       "metadata": {},
       "output_type": "pyout",
       "prompt_number": 157,
       "text": [
        "FrozenList([[u'Human', u'Negative', u'Seal'], [u'Ferret Trachea', u'Human Trachea']])"
       ]
      }
     ],
     "prompt_number": 157
    },
    {
     "cell_type": "code",
     "collapsed": false,
     "input": [
      "import matplotlib.pyplot as plt\n",
      "%matplotlib inline\n",
      "plt.plot(summary)"
     ],
     "language": "python",
     "metadata": {},
     "outputs": [
      {
       "metadata": {},
       "output_type": "pyout",
       "prompt_number": 158,
       "text": [
        "[<matplotlib.lines.Line2D at 0x204588ad0>]"
       ]
      },
      {
       "metadata": {},
       "output_type": "display_data",
       "png": "[encoded data removed]",
       "text": [
        "<matplotlib.figure.Figure at 0x11538ac90>"
       ]
      }
     ],
     "prompt_number": 158
    },
    {
     "cell_type": "code",
     "collapsed": false,
     "input": [],
     "language": "python",
     "metadata": {},
     "outputs": [],
     "prompt_number": 158
    }
   ],
   "metadata": {}
  }
 ]
}